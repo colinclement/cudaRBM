{
 "metadata": {
  "name": "",
  "signature": "sha256:51c0b0d7452897bc5abb417b7ef2e71b04b47a6062e7cdd1d3c483ea8f2b6e91"
 },
 "nbformat": 3,
 "nbformat_minor": 0,
 "worksheets": [
  {
   "cells": [
    {
     "cell_type": "code",
     "collapsed": false,
     "input": [
      "import numpy as np\n",
      "from scipy.linalg import inv, sqrtm\n",
      "from copy import copy\n",
      "import sys, os\n",
      "from datetime import datetime\n",
      "sys.path.append(\"/Users/Colin/Documents/Research/Graduate_Research/Spin_Glasses/\")\n",
      "from replicaExchangeMC import spinUnpack, timeSeriesLoader\n",
      "import plot_eigenvalue_spectrum as pspec\n",
      "from itertools import product\n",
      "from scipy.optimize import leastsq\n",
      "import cPickle as pickle\n",
      "%matplotlib inline\n",
      "import matplotlib.pyplot as plt\n",
      "from scipy.optimize import approx_fprime\n",
      "from sfo import SFO"
     ],
     "language": "python",
     "metadata": {},
     "outputs": [
      {
       "output_type": "stream",
       "stream": "stderr",
       "text": [
        "//anaconda/lib/python2.7/site-packages/mpl_toolkits/__init__.py:2: UserWarning: Module argparse was already imported from //anaconda/lib/python2.7/argparse.pyc, but /anaconda/lib/python2.7/site-packages is being added to sys.path\n",
        "  __import__('pkg_resources').declare_namespace(__name__)\n"
       ]
      }
     ],
     "prompt_number": 1
    },
    {
     "cell_type": "code",
     "collapsed": false,
     "input": [
      "def spatial_corr(spins):\n",
      "    \"\"\"\n",
      "    Given a spin configuration (L,L), returns distance and correlation at that\n",
      "    distance.\n",
      "    \"\"\"\n",
      "    xl, yl = spins.shape\n",
      "    xg, yg = np.meshgrid(np.arange(xl/2),np.arange(yl/2))\n",
      "    d = np.sqrt(xg**2+yg**2)\n",
      "    psi_k = np.fft.fft2(spins)\n",
      "    corr = np.real_if_close(np.fft.ifft2(psi_k*np.conj(psi_k)), tol=1000)[:xl/2,:yl/2]\n",
      "    return d.ravel(), corr.ravel()/(xl*yl)\n",
      "\n",
      "def corr_form(ksi, A):\n",
      "    return lambda r: A*np.exp(-r/ksi)*r**(-1/4)\n",
      "\n",
      "def residuals(x, spins):\n",
      "    L = spins.shape[0]\n",
      "    ksi = x[0]\n",
      "    A = x[1]\n",
      "    r, corr = spatial_corr(spins)\n",
      "    form = corr_form(ksi, A)\n",
      "    fitting = map(form, r)\n",
      "    return corr - fitting\n",
      "\n",
      "def fitform(spins):\n",
      "    x = np.random.rand(2)+1.\n",
      "    sol = leastsq(residuals, x, args=(spins,))\n",
      "    return sol"
     ],
     "language": "python",
     "metadata": {},
     "outputs": [],
     "prompt_number": 2
    },
    {
     "cell_type": "code",
     "collapsed": false,
     "input": [
      "%run rbm.py"
     ],
     "language": "python",
     "metadata": {},
     "outputs": [],
     "prompt_number": 2
    },
    {
     "cell_type": "code",
     "collapsed": false,
     "input": [
      "isingspins64 = spinUnpack(np.load('L_64_ising_Tc_N_s_4500.npz')['series'],64).reshape(-1,64**2)\n",
      "print isingspins.shape\n",
      "np.random.shuffle(isingspins) #So batches don't have correlations"
     ],
     "language": "python",
     "metadata": {},
     "outputs": [
      {
       "output_type": "stream",
       "stream": "stdout",
       "text": [
        "(4500, 4096)\n"
       ]
      }
     ],
     "prompt_number": 7
    },
    {
     "cell_type": "code",
     "collapsed": false,
     "input": [
      "isingspins32 = spinUnpack(np.load('L_32_T_2-45.npz')['arr_0'], 32).reshape(-1, 32**2)\n",
      "#np.random.shuffle(isingspins32)"
     ],
     "language": "python",
     "metadata": {},
     "outputs": [],
     "prompt_number": 158
    },
    {
     "cell_type": "code",
     "collapsed": false,
     "input": [
      "spinglasssim = pickle.load(open('data/2120127072-THM_250000-N_MC_10000000-P_50-sim-_disord-287128948_git-f010714c3c.pkl','r'))\n",
      "spinglasssim.filename = os.path.join('data', os.path.split(spinglasssim.filename)[-1])\n",
      "spinglassseries = timeSeriesLoader(spinglasssim, skip=40, N_t=6)\n",
      "print spinglassseries.shape"
     ],
     "language": "python",
     "metadata": {},
     "outputs": [],
     "prompt_number": 59
    },
    {
     "cell_type": "code",
     "collapsed": false,
     "input": [
      "spinarray = isingspins32[40000:40010].mean(axis=0).reshape(32,32)\n",
      "d, c = spatial_corr(spinarray)\n",
      "plt.matshow(spinarray, cmap='Greys')\n",
      "plt.figure()\n",
      "plt.plot(d, c, '.')\n",
      "ksi, _ = fitform(spinarray)\n",
      "print ksi\n",
      "cp = corr_form(ksi[0], ksi[1])\n",
      "plt.plot(d, cp(d),'.')"
     ],
     "language": "python",
     "metadata": {},
     "outputs": [
      {
       "output_type": "stream",
       "stream": "stdout",
       "text": [
        "[ 1.44824204  1.17391682]\n"
       ]
      },
      {
       "metadata": {},
       "output_type": "pyout",
       "prompt_number": 52,
       "text": [
        "[<matplotlib.lines.Line2D at 0x125aba890>]"
       ]
      },
      {
       "metadata": {},
       "output_type": "display_data",
       "png": "[encoded data removed]",
       "text": [
        "<matplotlib.figure.Figure at 0x126b0d490>"
       ]
      },
      {
       "metadata": {},
       "output_type": "display_data",
       "png": "[encoded data removed]",
       "text": [
        "<matplotlib.figure.Figure at 0x126b0d5d0>"
       ]
      }
     ],
     "prompt_number": 52
    },
    {
     "cell_type": "code",
     "collapsed": false,
     "input": [
      "rbm = RBM(isingspins32, N_h = 8*8, verbose=True, sparsity=0.001, mom=0.5, k = 4)"
     ],
     "language": "python",
     "metadata": {},
     "outputs": [],
     "prompt_number": 4
    },
    {
     "cell_type": "code",
     "collapsed": false,
     "input": [
      "%timeit rbm._gibbs_sample_hsh()"
     ],
     "language": "python",
     "metadata": {},
     "outputs": [
      {
       "output_type": "stream",
       "stream": "stdout",
       "text": [
        "1000 loops, best of 3: 217 \u00b5s per loop\n"
       ]
      }
     ],
     "prompt_number": 5
    },
    {
     "cell_type": "code",
     "collapsed": false,
     "input": [
      "rbmsg = RBM(spinglassseries[:,-2].reshape(-1,16**2), N_h = 8, verbose=True, sparsity=0.0005, mom=0.5, k=4)"
     ],
     "language": "python",
     "metadata": {},
     "outputs": [],
     "prompt_number": 93
    },
    {
     "cell_type": "code",
     "collapsed": false,
     "input": [
      "%load_ext line_profiler"
     ],
     "language": "python",
     "metadata": {},
     "outputs": [],
     "prompt_number": 6
    },
    {
     "cell_type": "code",
     "collapsed": false,
     "input": [
      "%mprun -f rbm.compute_model_si_hj -f rbm.compute_data_si_hj rbm.one_epoch()"
     ],
     "language": "python",
     "metadata": {},
     "outputs": [
      {
       "output_type": "stream",
       "stream": "stdout",
       "text": [
        "('',)\n"
       ]
      }
     ],
     "prompt_number": 17
    },
    {
     "cell_type": "code",
     "collapsed": false,
     "input": [
      "%lprun?"
     ],
     "language": "python",
     "metadata": {},
     "outputs": [],
     "prompt_number": 10
    },
    {
     "cell_type": "code",
     "collapsed": false,
     "input": [
      "start = datetime.now()\n",
      "N_epochs = 20\n",
      "for i in range(N_epochs):\n",
      "    rbm.one_epoch()\n",
      "print \"{} epochs took {}\".format(N_epochs, datetime.now()-start)\n",
      "fig1, ax1 = plt.subplots(1,2, figsize=(8,4))\n",
      "ax1[0].plot(rbm.E_list,',')\n",
      "histstuff = ax1[1].hist(rbm.W.flat, bins=30);"
     ],
     "language": "python",
     "metadata": {},
     "outputs": [
      {
       "output_type": "stream",
       "stream": "stdout",
       "text": [
        "20 epochs took 0:06:38.990208\n"
       ]
      },
      {
       "ename": "AttributeError",
       "evalue": "'AxesSubplot' object has no attribute 'yscale'",
       "output_type": "pyerr",
       "traceback": [
        "\u001b[0;31m---------------------------------------------------------------------------\u001b[0m\n\u001b[0;31mAttributeError\u001b[0m                            Traceback (most recent call last)",
        "\u001b[0;32m<ipython-input-103-8d5f4352d220>\u001b[0m in \u001b[0;36m<module>\u001b[0;34m()\u001b[0m\n\u001b[1;32m      7\u001b[0m \u001b[0max1\u001b[0m\u001b[0;34m[\u001b[0m\u001b[0;36m0\u001b[0m\u001b[0;34m]\u001b[0m\u001b[0;34m.\u001b[0m\u001b[0mplot\u001b[0m\u001b[0;34m(\u001b[0m\u001b[0mrbm\u001b[0m\u001b[0;34m.\u001b[0m\u001b[0mE_list\u001b[0m\u001b[0;34m,\u001b[0m\u001b[0;34m','\u001b[0m\u001b[0;34m)\u001b[0m\u001b[0;34m\u001b[0m\u001b[0m\n\u001b[1;32m      8\u001b[0m \u001b[0mhiststuff\u001b[0m \u001b[0;34m=\u001b[0m \u001b[0max1\u001b[0m\u001b[0;34m[\u001b[0m\u001b[0;36m1\u001b[0m\u001b[0;34m]\u001b[0m\u001b[0;34m.\u001b[0m\u001b[0mhist\u001b[0m\u001b[0;34m(\u001b[0m\u001b[0mrbm\u001b[0m\u001b[0;34m.\u001b[0m\u001b[0mW\u001b[0m\u001b[0;34m.\u001b[0m\u001b[0mflat\u001b[0m\u001b[0;34m,\u001b[0m \u001b[0mbins\u001b[0m\u001b[0;34m=\u001b[0m\u001b[0;36m30\u001b[0m\u001b[0;34m)\u001b[0m\u001b[0;34m;\u001b[0m\u001b[0;34m\u001b[0m\u001b[0m\n\u001b[0;32m----> 9\u001b[0;31m \u001b[0max1\u001b[0m\u001b[0;34m[\u001b[0m\u001b[0;36m1\u001b[0m\u001b[0;34m]\u001b[0m\u001b[0;34m.\u001b[0m\u001b[0myscale\u001b[0m\u001b[0;34m(\u001b[0m\u001b[0;34m'log'\u001b[0m\u001b[0;34m)\u001b[0m\u001b[0;34m\u001b[0m\u001b[0m\n\u001b[0m",
        "\u001b[0;31mAttributeError\u001b[0m: 'AxesSubplot' object has no attribute 'yscale'"
       ]
      },
      {
       "metadata": {},
       "output_type": "display_data",
       "png": "[encoded data removed]",
       "text": [
        "<matplotlib.figure.Figure at 0x12ef562d0>"
       ]
      }
     ],
     "prompt_number": 103
    },
    {
     "cell_type": "code",
     "collapsed": false,
     "input": [
      "1./0.69"
     ],
     "language": "python",
     "metadata": {},
     "outputs": [
      {
       "metadata": {},
       "output_type": "pyout",
       "prompt_number": 79,
       "text": [
        "1.4492753623188408"
       ]
      }
     ],
     "prompt_number": 79
    },
    {
     "cell_type": "code",
     "collapsed": false,
     "input": [
      "fig1, ax1 = plt.subplots(1,2, figsize=(8,4))\n",
      "ax1[0].plot(rbm.E_list,',')\n",
      "histstuff = ax1[1].hist(rbm.W.flat, bins=30);"
     ],
     "language": "python",
     "metadata": {},
     "outputs": [
      {
       "metadata": {},
       "output_type": "display_data",
       "png": "[encoded data removed]",
       "text": [
        "<matplotlib.figure.Figure at 0x13a716590>"
       ]
      }
     ],
     "prompt_number": 109
    },
    {
     "cell_type": "code",
     "collapsed": false,
     "input": [
      "imagerbm = rbm\n",
      "fig, axs = plt.subplots(3,5, figsize=(25,15))\n",
      "selection = np.random.randint(0,high=imagerbm.W.shape[1], size=3*5)\n",
      "mx, mn = imagerbm.W.max(), imagerbm.W.min()\n",
      "print mx, mn\n",
      "for ax, s in zip(axs.flat, selection):\n",
      "    ax.matshow(imagerbm.W[:,s].reshape(32,32), cmap=\"Greys\", vmin=mn, vmax=mx)\n",
      "    ax.set_title(str(s))\n",
      "    ax.set_xticks([])\n",
      "    ax.set_yticks([])\n",
      "    plt.suptitle('Weights for RBM trained on 32x32 Ising Model', fontsize=20)\n",
      "#plt.colorbar()"
     ],
     "language": "python",
     "metadata": {},
     "outputs": [
      {
       "output_type": "stream",
       "stream": "stdout",
       "text": [
        "0.6989111626 -0.702412086095\n"
       ]
      },
      {
       "metadata": {},
       "output_type": "display_data",
       "png": "[encoded data removed]",
       "text": [
        "<matplotlib.figure.Figure at 0x12ac36fd0>"
       ]
      }
     ],
     "prompt_number": 101
    },
    {
     "cell_type": "code",
     "collapsed": false,
     "input": [
      "def hiddenHamiltonian(W, beta):\n",
      "    H = lambda h: -np.sum(np.log(2*np.cosh(beta*W.dot(h))))/beta\n",
      "    return H\n",
      "H = hiddenHamiltonian(rbm.W, 1.)\n",
      "h_list = []\n",
      "s_state = None"
     ],
     "language": "python",
     "metadata": {},
     "outputs": [],
     "prompt_number": 31
    },
    {
     "cell_type": "code",
     "collapsed": false,
     "input": [
      "white = np.zeros(32*32)\n",
      "centers = np.argmax(rbm.W, 0)\n",
      "for c in centers:\n",
      "    white[c] = 1\n",
      "plt.matshow(white.reshape(32,32), cmap='Greys')\n",
      "plt.matshow(rbm.W.sum(1).reshape(32,32), cmap='Greys')"
     ],
     "language": "python",
     "metadata": {},
     "outputs": [
      {
       "metadata": {},
       "output_type": "pyout",
       "prompt_number": 104,
       "text": [
        "<matplotlib.image.AxesImage at 0x123305fd0>"
       ]
      },
      {
       "metadata": {},
       "output_type": "display_data",
       "png": "[encoded data removed]",
       "text": [
        "<matplotlib.figure.Figure at 0x12b8a1b50>"
       ]
      },
      {
       "metadata": {},
       "output_type": "display_data",
       "png": "[encoded data removed]",
       "text": [
        "<matplotlib.figure.Figure at 0x12b5bf290>"
       ]
      }
     ],
     "prompt_number": 104
    },
    {
     "cell_type": "code",
     "collapsed": false,
     "input": [
      "for i in range(1000):\n",
      "    s_state, h_state, p_s, p_h = rbm._gibbs_sample_hsh(s_state)\n",
      "    h_list += [h_state]"
     ],
     "language": "python",
     "metadata": {},
     "outputs": [],
     "prompt_number": 68
    },
    {
     "cell_type": "code",
     "collapsed": false,
     "input": [
      "h_energies = map(H, h_list)\n",
      "plt.plot(h_energies)"
     ],
     "language": "python",
     "metadata": {},
     "outputs": [
      {
       "metadata": {},
       "output_type": "pyout",
       "prompt_number": 74,
       "text": [
        "[<matplotlib.lines.Line2D at 0x12961b810>]"
       ]
      },
      {
       "metadata": {},
       "output_type": "display_data",
       "png": "[encoded data removed]",
       "text": [
        "<matplotlib.figure.Figure at 0x12941c710>"
       ]
      }
     ],
     "prompt_number": 74
    },
    {
     "cell_type": "code",
     "collapsed": false,
     "input": [
      "harr = np.array(h_list).astype('float')\n",
      "harr -= harr.mean(0)\n",
      "hcorr = np.einsum('ni,nj->ij',harr,harr)/harr.shape[0]\n",
      "plt.matshow(hcorr, cmap='coolwarm', vmin=-1, vmax=1.)\n",
      "plt.colorbar()"
     ],
     "language": "python",
     "metadata": {},
     "outputs": [
      {
       "metadata": {},
       "output_type": "pyout",
       "prompt_number": 70,
       "text": [
        "<matplotlib.colorbar.Colorbar instance at 0x1282a83f8>"
       ]
      },
      {
       "metadata": {},
       "output_type": "display_data",
       "png": "[encoded data removed]",
       "text": [
        "<matplotlib.figure.Figure at 0x126acab10>"
       ]
      }
     ],
     "prompt_number": 70
    },
    {
     "cell_type": "code",
     "collapsed": false,
     "input": [
      "plt.plot(rbm.W.sum(0), '.')"
     ],
     "language": "python",
     "metadata": {},
     "outputs": [
      {
       "metadata": {},
       "output_type": "pyout",
       "prompt_number": 83,
       "text": [
        "[<matplotlib.lines.Line2D at 0x12a2386d0>]"
       ]
      },
      {
       "metadata": {},
       "output_type": "display_data",
       "png": "[encoded data removed]",
       "text": [
        "<matplotlib.figure.Figure at 0x12a138cd0>"
       ]
      }
     ],
     "prompt_number": 83
    },
    {
     "cell_type": "markdown",
     "metadata": {},
     "source": [
      "#Testing RBM class with fabricated data:"
     ]
    },
    {
     "cell_type": "markdown",
     "metadata": {},
     "source": [
      "##Sample from these possible states:"
     ]
    },
    {
     "cell_type": "code",
     "collapsed": false,
     "input": [
      "foo = np.ones(16)\n",
      "hbarl = np.array([foo[i]*(-1)**(i%2) for i in range(16)])\n",
      "hbarr = np.array([foo[i]*(-1)**(i%2+1) for i in range(16)])\n",
      "vbart = (hbarl.reshape(4,4).T).ravel()\n",
      "vbarb = (hbarr.reshape(4,4).T).ravel()\n",
      "birdlr = np.array([foo[i]*(-1)**(i%3) for i in range(16)])\n",
      "birdll = np.array([foo[i]*(-1)**(i%5) for i in range(16)])\n",
      "check1 = np.array([foo[i]*(-1)**(i%2+(i/4)%2) for i in range(16)])\n",
      "check2 = np.array([foo[i]*(-1)**(i%2+(i/4)%2+1) for i in range(16)])\n",
      "formlist = [hbarl, hbarr, vbarb, vbart, birdll, birdlr, check1, check2]\n",
      "fig, axs = plt.subplots(1,8, figsize = (10,80))\n",
      "for n, ax in enumerate(axs.flat):\n",
      "    ax.matshow(formlist[n].reshape(4,4), cmap='Greys')\n",
      "    ax.set_xticks([])\n",
      "    ax.set_yticks([])"
     ],
     "language": "python",
     "metadata": {},
     "outputs": [
      {
       "metadata": {},
       "output_type": "display_data",
       "png": "[encoded data removed]",
       "text": [
        "<matplotlib.figure.Figure at 0x10ddf9dd0>"
       ]
      }
     ],
     "prompt_number": 2
    },
    {
     "cell_type": "code",
     "collapsed": false,
     "input": [
      "upleft = np.ones(16)\n",
      "upleft[0], upleft[1], upleft[4], upleft[5] = -1, -1, -1, -1\n",
      "upright = upleft.reshape(4,4)[:,::-1].ravel()\n",
      "downleft = upleft.reshape(4,4)[::-1,:].ravel()\n",
      "downright = upright.reshape(4,4)[::-1,::-1].ravel()\n",
      "cornerforms = [upleft, upright, downleft, downright]\n",
      "fig, axs = plt.subplots(1,4, figsize = (10,40))\n",
      "for n, ax in enumerate(axs.flat):\n",
      "    ax.matshow(cornerforms[n].reshape(4,4), cmap='Greys')\n",
      "    ax.set_xticks([])\n",
      "    ax.set_yticks([])"
     ],
     "language": "python",
     "metadata": {},
     "outputs": [
      {
       "metadata": {},
       "output_type": "display_data",
       "png": "[encoded data removed]",
       "text": [
        "<matplotlib.figure.Figure at 0x11036af10>"
       ]
      }
     ],
     "prompt_number": 7
    },
    {
     "cell_type": "code",
     "collapsed": false,
     "input": [
      "N_samples = 400\n",
      "forms = cornerforms\n",
      "evenprop = [1./len(forms) for i in range(len(forms))]\n",
      "cumprop = np.cumsum(evenprop)\n",
      "part = [np.around(ep*N_samples) for ep in evenprop]\n",
      "fakedata = []\n",
      "for nf, p in enumerate(part):\n",
      "    for i in range(int(p)):\n",
      "        fakedata += [forms[nf]]\n",
      "fakedata = np.array(fakedata)*(2*(np.random.rand(N_samples)>0.5)-1)[:,None]\n",
      "np.random.shuffle(fakedata)"
     ],
     "language": "python",
     "metadata": {},
     "outputs": [],
     "prompt_number": 8
    },
    {
     "cell_type": "code",
     "collapsed": false,
     "input": [
      "testrbm = RBM(s = fakedata, N_h = len(forms), k=2, batchsize=40, sparsity=0.005, mom=0.5, verbose=True)"
     ],
     "language": "python",
     "metadata": {},
     "outputs": [],
     "prompt_number": 12
    },
    {
     "cell_type": "code",
     "collapsed": false,
     "input": [
      "start = datetime.now()\n",
      "N_testepochs = 3000\n",
      "for i in range(N_testepochs):\n",
      "    testrbm.one_epoch()\n",
      "print \"{} epochs took {}\".format(N_testepochs, datetime.now()-start)\n",
      "fig1, ax1 = plt.subplots(1,2, figsize=(8,4))\n",
      "ax1[0].plot(testrbm.E_list,',')\n",
      "histstuff = ax1[1].hist(testrbm.W.flat, bins=30);"
     ],
     "language": "python",
     "metadata": {},
     "outputs": [
      {
       "output_type": "stream",
       "stream": "stdout",
       "text": [
        "3000 epochs took 0:00:35.850417\n"
       ]
      },
      {
       "metadata": {},
       "output_type": "display_data",
       "png": "[encoded data removed]",
       "text": [
        "<matplotlib.figure.Figure at 0x110d5fcd0>"
       ]
      }
     ],
     "prompt_number": 15
    },
    {
     "cell_type": "code",
     "collapsed": false,
     "input": [
      "fig1, ax1 = plt.subplots(1,2, figsize=(8,4))\n",
      "ax1[0].plot(testrbm.E_list,',')\n",
      "histstuff = ax1[1].hist(testrbm.W.flat, bins=30);"
     ],
     "language": "python",
     "metadata": {},
     "outputs": [
      {
       "metadata": {},
       "output_type": "display_data",
       "png": "[encoded data removed]",
       "text": [
        "<matplotlib.figure.Figure at 0x1c2f6c510>"
       ]
      }
     ],
     "prompt_number": 499
    },
    {
     "cell_type": "code",
     "collapsed": false,
     "input": [
      "fig, axs = plt.subplots(2,testrbm.N_h/2, figsize=(15, 8))\n",
      "mx, mn = testrbm.W.max(), testrbm.W.min()\n",
      "print mx, mn\n",
      "for s, ax in enumerate(axs.flat):\n",
      "    ax.matshow(testrbm.W[:,s].reshape(4,4), cmap=\"Greys\")#, vmin=mn, vmax=mx)\n",
      "    ax.set_title(str(s))\n",
      "    ax.set_xticks([])\n",
      "    ax.set_yticks([])\n",
      "#plt.colorbar()"
     ],
     "language": "python",
     "metadata": {},
     "outputs": [
      {
       "output_type": "stream",
       "stream": "stdout",
       "text": [
        "1.12613592076 -1.18813151723\n"
       ]
      },
      {
       "metadata": {},
       "output_type": "display_data",
       "png": "[encoded data removed]",
       "text": [
        "<matplotlib.figure.Figure at 0x1112d8790>"
       ]
      }
     ],
     "prompt_number": 16
    },
    {
     "cell_type": "code",
     "collapsed": false,
     "input": [
      "hstates = map(list, list(product([-1,1], repeat=(len(forms)))))[:8]\n",
      "fig, axs = plt.subplots(2,len(hstates)/2, figsize=(20,5))\n",
      "for hs, ax in zip(hstates, axs.flat):\n",
      "    ax.matshow(testrbm._sample_s_given_h(hs)[1].reshape(4,4),cmap='Greys', vmin=0, vmax=1.)\n",
      "    ax.set_xticks([])\n",
      "    ax.set_yticks([])"
     ],
     "language": "python",
     "metadata": {},
     "outputs": [
      {
       "metadata": {},
       "output_type": "display_data",
       "png": "[encoded data removed]",
       "text": [
        "<matplotlib.figure.Figure at 0x11545f110>"
       ]
      }
     ],
     "prompt_number": 18
    },
    {
     "cell_type": "markdown",
     "metadata": {},
     "source": [
      "#Minimum Probability Flow Learning"
     ]
    },
    {
     "cell_type": "code",
     "collapsed": false,
     "input": [
      "isingspins32.shape"
     ],
     "language": "python",
     "metadata": {},
     "outputs": [
      {
       "metadata": {},
       "output_type": "pyout",
       "prompt_number": 3,
       "text": [
        "(50000, 1024)"
       ]
      }
     ],
     "prompt_number": 3
    },
    {
     "cell_type": "code",
     "collapsed": false,
     "input": [
      "from scipy import cosh, tanh"
     ],
     "language": "python",
     "metadata": {},
     "outputs": []
    },
    {
     "cell_type": "code",
     "collapsed": false,
     "input": [
      "def K_dK_MPF(weights, data):\n",
      "    n, v = data.shape #n = samples, v = visible units\n",
      "    W = weights.reshape(v, -1)\n",
      "    sdotW = data.dot(W)[:,:,None]\n",
      "    sdotWflip = sdotW-2*(W.T*data[:,None])\n",
      "    Ksl_log = np.exp(0.5*np.log(cosh(sdotWflip)/cosh(sdotW)).sum(1))\n",
      "    K_obj = np.sum(Ksl_log)/n\n",
      "    tanh_sdotWflip = tanh(sdotWflip)\n",
      "    dK1 = np.einsum('nl,np,nql->pq',Ksl_log,data,tanh_sdotWflip-tanh(sdotW))\n",
      "    dK2 = np.einsum('np,np,nqp->pq',Ksl_log,2*data,tanh_sdotWflip)\n",
      "    dK_obj = 0.5/n*(dK1-dK2).ravel()\n",
      "    return K_obj, dK_obj"
     ],
     "language": "python",
     "metadata": {},
     "outputs": []
    },
    {
     "cell_type": "code",
     "collapsed": false,
     "input": [
      "W = np.random.randn(32,8)\n",
      "s = 2*(np.random.rand(20,32)>0.5)-1\n",
      "grad = approx_fprime(W.ravel(), lambda x: K_dK_MPF(x, s)[0], epsilon=1E-7)\n",
      "k, dk = K_dK_MPF(W.ravel(), s)\n",
      "np.sqrt(np.mean((dk - grad)**2))"
     ],
     "language": "python",
     "metadata": {},
     "outputs": [
      {
       "metadata": {},
       "output_type": "pyout",
       "prompt_number": 130,
       "text": [
        "6.0868988808210795e-05"
       ]
      }
     ],
     "prompt_number": 130
    },
    {
     "cell_type": "code",
     "collapsed": false,
     "input": [
      "%time k, dk = K_dK_MPF(optimizer.theta, isingspins32[:100])\n",
      "print k"
     ],
     "language": "python",
     "metadata": {},
     "outputs": [
      {
       "output_type": "stream",
       "stream": "stdout",
       "text": [
        "CPU times: user 11.9 s, sys: 132 ms, total: 12.1 s\n",
        "Wall time: 11.3 s\n",
        " 830.22084792\n"
       ]
      }
     ],
     "prompt_number": 150
    },
    {
     "cell_type": "code",
     "collapsed": false,
     "input": [
      "initial_p = np.random.randn(isingspins32.shape[1]*64)/64\n",
      "optimizer = SFO(K_dK_MPF, initial_p, [isingspins32[i*200:(i+1)*200] for i in range(250)])"
     ],
     "language": "python",
     "metadata": {},
     "outputs": [],
     "prompt_number": 142
    },
    {
     "cell_type": "code",
     "collapsed": false,
     "input": [
      "optimizer.optimize(1)"
     ],
     "language": "python",
     "metadata": {},
     "outputs": [
      {
       "output_type": "stream",
       "stream": "stdout",
       "text": [
        "pass 1.048, step 0, "
       ]
      },
      {
       "output_type": "stream",
       "stream": "stdout",
       "text": [
        "active 52/250, sfo time 77.6358523369 s, func time 5482.96685457 s, f 801.509939709, <f> 817.484696189\n",
        "pass 1.052, step 1, "
       ]
      },
      {
       "output_type": "stream",
       "stream": "stdout",
       "text": [
        "active 52/250, sfo time 77.9862015247 s, func time 5503.05578041 s, f 809.160404069, <f> 817.524424927\n",
        "pass 1.056, step 2, "
       ]
      },
      {
       "output_type": "stream",
       "stream": "stdout",
       "text": [
        "active 52/250, sfo time 78.3146183491 s, func time 5524.58148861 s, f 810.481704494, <f> 817.563619859\n",
        "pass 1.06, step 3, "
       ]
      },
      {
       "output_type": "stream",
       "stream": "stdout",
       "text": [
        "active 52/250, sfo time 78.615139246 s, func time 5546.64014482 s, f 794.841399633, <f> 817.638371681\n",
        "pass 1.064, step 4, "
       ]
      },
      {
       "output_type": "stream",
       "stream": "stdout",
       "text": [
        "active 52/250, sfo time 78.8799669743 s, func time 5566.59338999 s, f 820.940274244, <f> 817.422218711\n",
        "pass 1.068, step 5, "
       ]
      },
      {
       "output_type": "stream",
       "stream": "stdout",
       "text": [
        "active 52/250, sfo time 79.1584947109 s, func time 5589.13623714 s, f 820.748308842, <f> 817.168612467\n",
        "pass 1.072, step 6, "
       ]
      },
      {
       "output_type": "stream",
       "stream": "stdout",
       "text": [
        "active 52/250, sfo time 79.430249691 s, func time 5612.40252519 s, f 814.082111359, <f> 817.223543143\n",
        "pass 1.076, step 7, "
       ]
      },
      {
       "output_type": "stream",
       "stream": "stdout",
       "text": [
        "active 52/250, sfo time 79.751875639 s, func time 5634.15322924 s, f 814.599070016, <f> 816.992306554\n",
        "pass 1.08, step 8, "
       ]
      },
      {
       "output_type": "stream",
       "stream": "stdout",
       "text": [
        "active 52/250, sfo time 80.0400204659 s, func time 5657.00242424 s, f 803.127503677, <f> 817.018365764\n",
        "pass 1.084, step 9, "
       ]
      },
      {
       "output_type": "stream",
       "stream": "stdout",
       "text": [
        "active 52/250, sfo time 80.3198235035 s, func time 5679.40395522 s, f 811.955728788, <f> 817.06634206\n",
        "pass 1.088, step 10, "
       ]
      },
      {
       "output_type": "stream",
       "stream": "stdout",
       "text": [
        "active 53/250, sfo time 80.6054544449 s, func time 5701.8297143 s, f 816.503520058, <f> 817.116557378\n",
        "pass 1.092, step 11, "
       ]
      },
      {
       "output_type": "stream",
       "stream": "stdout",
       "text": [
        "active 53/250, sfo time 80.9625275135 s, func time 5725.17004228 s, f 827.392580051, <f> 817.310444598\n",
        "pass 1.096, step 12, "
       ]
      },
      {
       "output_type": "stream",
       "stream": "stdout",
       "text": [
        "active 54/250, sfo time 81.2742705345 s, func time 5748.62987232 s, f 825.731996776, <f> 817.279112838\n",
        "pass 1.1, step 13, "
       ]
      },
      {
       "output_type": "stream",
       "stream": "stdout",
       "text": [
        "active 54/250, sfo time 81.5737204552 s, func time 5771.52700543 s, f 829.279030458, <f> 817.501333535\n",
        "pass 1.104, step 14, "
       ]
      },
      {
       "output_type": "stream",
       "stream": "stdout",
       "text": [
        "active 55/250, sfo time 81.872225523 s, func time 5794.24103332 s, f 827.664329785, <f> 817.47143167\n",
        "pass 1.108, step 15, "
       ]
      },
      {
       "output_type": "stream",
       "stream": "stdout",
       "text": [
        "active 55/250, sfo time 82.1919095516 s, func time 5817.1847043 s, f 830.090541972, <f> 817.70087004\n",
        "pass 1.112, step 16, "
       ]
      },
      {
       "output_type": "stream",
       "stream": "stdout",
       "text": [
        "active 56/250, sfo time 82.4840686321 s, func time 5840.17445135 s, f 828.569301964, <f> 817.67321113\n",
        "pass 1.116, step 17, "
       ]
      },
      {
       "output_type": "stream",
       "stream": "stdout",
       "text": [
        "active 56/250, sfo time 82.796551466 s, func time 5862.42014647 s, f 834.441339193, <f> 817.972641989\n",
        "pass 1.12, step 18, "
       ]
      },
      {
       "output_type": "stream",
       "stream": "stdout",
       "text": [
        "active 57/250, sfo time 83.1020843983 s, func time 5884.49795437 s, f 832.952937192, <f> 817.946063381\n",
        "pass 1.124, step 19, "
       ]
      },
      {
       "output_type": "stream",
       "stream": "stdout",
       "text": [
        "active 57/250, sfo time 83.3918266296 s, func time 5906.19163632 s, f 832.515705759, <f> 818.201671142\n",
        "pass 1.128, step 20, "
       ]
      },
      {
       "output_type": "stream",
       "stream": "stdout",
       "text": [
        "active 58/250, sfo time 83.6837964058 s, func time 5928.4349544 s, f 831.15996449, <f> 818.177886208\n",
        "pass 1.132, step 21, "
       ]
      },
      {
       "output_type": "stream",
       "stream": "stdout",
       "text": [
        "active 58/250, sfo time 83.9760613441 s, func time 5951.81386042 s, f 836.51037805, <f> 818.493963653\n",
        "pass 1.136, step 22, "
       ]
      },
      {
       "output_type": "stream",
       "stream": "stdout",
       "text": [
        "active 59/250, sfo time 84.2618482113 s, func time 5974.20524955 s, f 835.225466149, <f> 818.47181\n",
        "pass 1.14, step 23, "
       ]
      },
      {
       "output_type": "stream",
       "stream": "stdout",
       "text": [
        "active 59/250, sfo time 84.5681769848 s, func time 5997.0754416 s, f 831.382321009, <f> 818.69063222\n",
        "pass 1.144, step 24, "
       ]
      },
      {
       "output_type": "stream",
       "stream": "stdout",
       "text": [
        "active 60/250, sfo time 84.8588972092 s, func time 6018.87914944 s, f 830.138298231, <f> 818.669547089\n",
        "pass 1.148, step 25, "
       ]
      },
      {
       "output_type": "stream",
       "stream": "stdout",
       "text": [
        "active 60/250, sfo time 85.1527531147 s, func time 6041.30832648 s, f 829.323890293, <f> 818.847119475\n",
        "pass 1.152, step 26, "
       ]
      },
      {
       "output_type": "stream",
       "stream": "stdout",
       "text": [
        "active 61/250, sfo time 85.4878253937 s, func time 6063.93009734 s, f 828.176965404, <f> 818.828004061\n",
        "pass 1.156, step 27, "
       ]
      },
      {
       "output_type": "stream",
       "stream": "stdout",
       "text": [
        "active 61/250, sfo time 85.7727422714 s, func time 6086.09217954 s, f 830.829288487, <f> 819.024746428\n",
        "pass 1.16, step 28, "
       ]
      },
      {
       "output_type": "stream",
       "stream": "stdout",
       "text": [
        "active 62/250, sfo time 86.0641694069 s, func time 6108.39758348 s, f 829.685446965, <f> 819.005994928\n",
        "pass 1.164, step 29, "
       ]
      },
      {
       "output_type": "stream",
       "stream": "stdout",
       "text": [
        "active 62/250, sfo time 86.3631775379 s, func time 6131.12005639 s, f 830.404765724, <f> 819.18984607\n",
        "pass 1.168, step 30, "
       ]
      },
      {
       "output_type": "stream",
       "stream": "stdout",
       "text": [
        "active 63/250, sfo time 86.715161562 s, func time 6153.83867335 s, f 829.317089423, <f> 819.172302904\n",
        "pass 1.172, step 31, "
       ]
      },
      {
       "output_type": "stream",
       "stream": "stdout",
       "text": [
        "active 63/250, sfo time 87.040882349 s, func time 6176.65556955 s, f 833.964576244, <f> 819.407100893\n",
        "pass 1.176, step 32, "
       ]
      },
      {
       "output_type": "stream",
       "stream": "stdout",
       "text": [
        "active 64/250, sfo time 87.3292446136 s, func time 6199.8075304 s, f 832.904259404, <f> 819.390270467\n",
        "pass 1.18, step 33, "
       ]
      },
      {
       "output_type": "stream",
       "stream": "stdout",
       "text": [
        "active 64/250, sfo time 87.6282374859 s, func time 6223.14953852 s, f 826.157056169, <f> 819.496001494\n",
        "pass 1.184, step 34, "
       ]
      },
      {
       "output_type": "stream",
       "stream": "stdout",
       "text": [
        "active 65/250, sfo time 87.9292733669 s, func time 6245.82666063 s, f 825.139262327, <f> 819.480098465\n",
        "pass 1.188, step 35, "
       ]
      },
      {
       "output_type": "stream",
       "stream": "stdout",
       "text": [
        "active 65/250, sfo time 88.223988533 s, func time 6267.78941846 s, f 830.360768713, <f> 819.647493392\n",
        "pass 1.192, step 36, "
       ]
      },
      {
       "output_type": "stream",
       "stream": "stdout",
       "text": [
        "active 66/250, sfo time 88.5912754536 s, func time 6290.46447849 s, f 829.388255105, <f> 819.632531644\n",
        "pass 1.196, step 37, "
       ]
      },
      {
       "output_type": "stream",
       "stream": "stdout",
       "text": [
        "active 66/250, sfo time 88.8902282715 s, func time 6313.18579054 s, f 829.817612111, <f> 819.786851045\n",
        "pass 1.2, step 38, "
       ]
      },
      {
       "output_type": "stream",
       "stream": "stdout",
       "text": [
        "active 67/250, sfo time 89.1857821941 s, func time 6336.23915577 s, f 828.833111418, <f> 819.771934368\n",
        "pass 1.204, step 39, "
       ]
      },
      {
       "output_type": "stream",
       "stream": "stdout",
       "text": [
        "active 67/250, sfo time 89.4837064743 s, func time 6359.23946762 s, f 828.241175001, <f> 819.898340944\n",
        "pass 1.208, step 40, "
       ]
      },
      {
       "output_type": "stream",
       "stream": "stdout",
       "text": [
        "active 68/250, sfo time 89.7844183445 s, func time 6382.50206876 s, f 827.333525701, <f> 819.88479394\n",
        "pass 1.212, step 41, "
       ]
      },
      {
       "output_type": "stream",
       "stream": "stdout",
       "text": [
        "active 68/250, sfo time 90.0745913982 s, func time 6405.41324377 s, f 827.33832381, <f> 819.994404673\n",
        "pass 1.216, step 42, "
       ]
      },
      {
       "output_type": "stream",
       "stream": "stdout",
       "text": [
        "active 69/250, sfo time 90.3616201878 s, func time 6428.51170683 s, f 826.460516389, <f> 819.981495741\n",
        "pass 1.22, step 43, "
       ]
      },
      {
       "output_type": "stream",
       "stream": "stdout",
       "text": [
        "active 69/250, sfo time 90.6171169281 s, func time 6449.66733289 s, f 834.178763447, <f> 820.187253244\n",
        "pass 1.224, step 44, "
       ]
      },
      {
       "output_type": "stream",
       "stream": "stdout",
       "text": [
        "active 70/250, sfo time 90.9025728703 s, func time 6468.71040606 s, f 833.280689375, <f> 820.174237677\n",
        "pass 1.228, step 45, "
       ]
      },
      {
       "output_type": "stream",
       "stream": "stdout",
       "text": [
        "active 70/250, sfo time 91.2009227276 s, func time 6487.93969011 s, f 825.053444074, <f> 820.243940626\n",
        "pass 1.232, step 46, "
       ]
      },
      {
       "output_type": "stream",
       "stream": "stdout",
       "text": [
        "active 71/250, sfo time 91.5188827515 s, func time 6507.26783919 s, f 824.234727332, <f> 820.232244672\n",
        "pass 1.236, step 47, "
       ]
      },
      {
       "output_type": "stream",
       "stream": "stdout",
       "text": [
        "active 71/250, sfo time 91.8418989182 s, func time 6526.62973714 s, f 826.213948669, <f> 820.316494025\n",
        "pass 1.24, step 48, "
       ]
      },
      {
       "output_type": "stream",
       "stream": "stdout",
       "text": [
        "active 72/250, sfo time 92.1637470722 s, func time 6546.14114618 s, f 825.429503098, <f> 820.305445495\n",
        "pass 1.244, step 49, "
       ]
      },
      {
       "output_type": "stream",
       "stream": "stdout",
       "text": [
        "active 72/250, sfo time 92.4832172394 s, func time 6565.6401031 s, f 829.326097481, <f> 820.430732328\n",
        "pass 1.248, step 50, "
       ]
      },
      {
       "output_type": "stream",
       "stream": "stdout",
       "text": [
        "active 73/250, sfo time 92.8078923225 s, func time 6585.11705518 s, f 828.524413018, <f> 820.419597822\n",
        "pass 1.252, step 51, "
       ]
      },
      {
       "output_type": "stream",
       "stream": "stdout",
       "text": [
        "active 73/250, sfo time 93.1278862953 s, func time 6604.58546424 s, f 825.716238197, <f> 820.49215454\n",
        "pass 1.256, step 52, "
       ]
      },
      {
       "output_type": "stream",
       "stream": "stdout",
       "text": [
        "active 74/250, sfo time 93.4466862679 s, func time 6624.05687237 s, f 824.968936205, <f> 820.481917526\n",
        "pass 1.26, step 53, "
       ]
      },
      {
       "output_type": "stream",
       "stream": "stdout",
       "text": [
        "active 74/250, sfo time 93.7542612553 s, func time 6643.54625916 s, f 823.52990888, <f> 820.523106598\n",
        "pass 1.264, step 54, "
       ]
      },
      {
       "output_type": "stream",
       "stream": "stdout",
       "text": [
        "active 75/250, sfo time 94.0706501007 s, func time 6663.01492715 s, f 822.782676474, <f> 820.513008863\n",
        "pass 1.268, step 55, "
       ]
      },
      {
       "output_type": "stream",
       "stream": "stdout",
       "text": [
        "active 75/250, sfo time 94.3947291374 s, func time 6682.55508208 s, f 835.143284114, <f> 820.7080792\n",
        "pass 1.272, step 56, "
       ]
      },
      {
       "output_type": "stream",
       "stream": "stdout",
       "text": [
        "active 76/250, sfo time 94.7248072624 s, func time 6702.06625509 s, f 834.39509346, <f> 820.698103324\n",
        "pass 1.276, step 57, "
       ]
      },
      {
       "output_type": "stream",
       "stream": "stdout",
       "text": [
        "active 76/250, sfo time 95.0519251823 s, func time 6721.61171126 s, f 829.096925876, <f> 820.808614147\n",
        "pass 1.28, step 58, "
       ]
      },
      {
       "output_type": "stream",
       "stream": "stdout",
       "text": [
        "active 77/250, sfo time 95.3664002419 s, func time 6741.11649418 s, f 828.378758267, <f> 820.799164574\n",
        "pass 1.284, step 59, "
       ]
      },
      {
       "output_type": "stream",
       "stream": "stdout",
       "text": [
        "active 77/250, sfo time 95.6892154217 s, func time 6760.65215611 s, f 822.175662107, <f> 820.817041165\n",
        "pass 1.288, step 60, "
       ]
      },
      {
       "output_type": "stream",
       "stream": "stdout",
       "text": [
        "active 78/250, sfo time 96.0247163773 s, func time 6780.14148331 s, f 821.462859481, <f> 820.807783988\n",
        "pass 1.292, step 61, "
       ]
      },
      {
       "output_type": "stream",
       "stream": "stdout",
       "text": [
        "active 78/250, sfo time 96.3439173698 s, func time 6799.63312936 s, f 830.018401353, <f> 820.925868826\n",
        "pass 1.296, step 62, "
       ]
      },
      {
       "output_type": "stream",
       "stream": "stdout",
       "text": [
        "active 79/250, sfo time 96.6744911671 s, func time 6819.17478156 s, f 829.326308106, <f> 820.916995836\n",
        "pass 1.3, step 63, "
       ]
      },
      {
       "output_type": "stream",
       "stream": "stdout",
       "text": [
        "active 79/250, sfo time 96.9917712212 s, func time 6838.76585245 s, f 826.541281213, <f> 820.988189321\n",
        "pass 1.304, step 64, "
       ]
      },
      {
       "output_type": "stream",
       "stream": "stdout",
       "text": [
        "active 80/250, sfo time 97.3380174637 s, func time 6858.33621836 s, f 825.890500005, <f> 820.979951585\n",
        "pass 1.308, step 65, "
       ]
      },
      {
       "output_type": "stream",
       "stream": "stdout",
       "text": [
        "active 80/250, sfo time 97.6659684181 s, func time 6877.95563936 s, f 833.293033869, <f> 821.133865113\n",
        "pass 1.312, step 66, "
       ]
      },
      {
       "output_type": "stream",
       "stream": "stdout",
       "text": [
        "active 81/250, sfo time 97.992600441 s, func time 6897.53840828 s, f 832.618774636, <f> 821.125436873\n",
        "pass 1.316, step 67, "
       ]
      },
      {
       "output_type": "stream",
       "stream": "stdout",
       "text": [
        "active 81/250, sfo time 98.3979566097 s, func time 6917.1630373 s, f 830.333656787, <f> 821.2391186\n",
        "pass 1.32, step 68, "
       ]
      },
      {
       "output_type": "stream",
       "stream": "stdout",
       "text": [
        "active 82/250, sfo time 98.7150514126 s, func time 6936.7099545 s, f 829.689361799, <f> 821.231164341\n",
        "pass 1.324, step 69, "
       ]
      },
      {
       "output_type": "stream",
       "stream": "stdout",
       "text": [
        "active 82/250, sfo time 99.0486364365 s, func time 6956.31671143 s, f 827.949412026, <f> 821.313094191\n",
        "pass 1.328, step 70, "
       ]
      },
      {
       "output_type": "stream",
       "stream": "stdout",
       "text": [
        "active 83/250, sfo time 99.3682792187 s, func time 6975.93066764 s, f 827.318111214, <f> 821.3053954\n",
        "pass 1.332, step 71, "
       ]
      },
      {
       "output_type": "stream",
       "stream": "stdout",
       "text": [
        "active 83/250, sfo time 99.7139532566 s, func time 6995.6169436 s, f 831.066019377, <f> 821.42299328\n",
        "pass 1.336, step 72, "
       ]
      },
      {
       "output_type": "stream",
       "stream": "stdout",
       "text": [
        "active 84/250, sfo time 100.025264978 s, func time 7015.15551376 s, f 830.44271901, <f> 821.415483637\n",
        "pass 1.34, step 73, "
       ]
      },
      {
       "output_type": "stream",
       "stream": "stdout",
       "text": [
        "active 84/250, sfo time 100.342735052 s, func time 7034.67800975 s, f 826.527286354, <f> 821.476338431\n",
        "pass 1.344, step 74, "
       ]
      },
      {
       "output_type": "stream",
       "stream": "stdout",
       "text": [
        "active 85/250, sfo time 100.670088768 s, func time 7054.27377987 s, f 825.914127681, <f> 821.469038923\n",
        "pass 1.348, step 75, "
       ]
      },
      {
       "output_type": "stream",
       "stream": "stdout",
       "text": [
        "active 85/250, sfo time 100.989980698 s, func time 7073.85507989 s, f 830.589515802, <f> 821.576338651\n",
        "pass 1.352, step 76, "
       ]
      },
      {
       "output_type": "stream",
       "stream": "stdout",
       "text": [
        "active 86/250, sfo time 101.313444614 s, func time 7093.41524076 s, f 829.969406424, <f> 821.569043246\n",
        "pass 1.356, step 77, "
       ]
      },
      {
       "output_type": "stream",
       "stream": "stdout",
       "text": [
        "active 86/250, sfo time 101.640159607 s, func time 7113.02289176 s, f 826.720878001, <f> 821.628948302\n",
        "pass 1.36, step 78, "
       ]
      },
      {
       "output_type": "stream",
       "stream": "stdout",
       "text": [
        "active 87/250, sfo time 101.993944645 s, func time 7132.58846474 s, f 826.136524394, <f> 821.622153492\n",
        "pass 1.364, step 79, "
       ]
      },
      {
       "output_type": "stream",
       "stream": "stdout",
       "text": [
        "active 87/250, sfo time 102.316990852 s, func time 7152.15399861 s, f 828.787735727, <f> 821.704516507\n",
        "pass 1.368, step 80, "
       ]
      },
      {
       "output_type": "stream",
       "stream": "stdout",
       "text": [
        "active 87/250, sfo time 102.634336948 s, func time 7171.73681951 s, f 828.225500782, <f> 821.698054036\n",
        "pass 1.372, step 81, "
       ]
      },
      {
       "output_type": "stream",
       "stream": "stdout",
       "text": [
        "active 88/250, sfo time 102.985837936 s, func time 7191.31152749 s, f 820.797449466, <f> 821.55460283\n",
        "pass 1.376, step 82, "
       ]
      },
      {
       "output_type": "stream",
       "stream": "stdout",
       "text": [
        "active 88/250, sfo time 103.30355072 s, func time 7210.89193368 s, f 829.664796317, <f> 821.64676412\n",
        "pass 1.38, step 83, "
       ]
      },
      {
       "output_type": "stream",
       "stream": "stdout",
       "text": [
        "active 88/250, sfo time 103.625954628 s, func time 7230.47552681 s, f 829.053122968, <f> 821.639813286\n",
        "pass 1.384, step 84, "
       ]
      },
      {
       "output_type": "stream",
       "stream": "stdout",
       "text": [
        "active 88/250, sfo time 103.97474575 s, func time 7250.08212376 s, f 817.296924752, <f> 821.50386856\n",
        "pass 1.388, step 85, "
       ]
      },
      {
       "output_type": "stream",
       "stream": "stdout",
       "text": [
        "active 88/250, sfo time 104.268818617 s, func time 7269.65667295 s, f 819.084437161, <f> 821.345025196\n",
        "pass 1.392, step 86, "
       ]
      },
      {
       "output_type": "stream",
       "stream": "stdout",
       "text": [
        "active 88/250, sfo time 104.571733713 s, func time 7289.27264881 s, f 817.11484851, <f> 821.181106442\n",
        "pass 1.396, step 87, "
       ]
      },
      {
       "output_type": "stream",
       "stream": "stdout",
       "text": [
        "active 88/250, sfo time 104.92796731 s, func time 7308.868541 s, f 821.457116133, <f> 821.026111682\n",
        "pass 1.4, step 88, "
       ]
      },
      {
       "output_type": "stream",
       "stream": "stdout",
       "text": [
        "active 88/250, sfo time 105.233362198 s, func time 7328.53525305 s, f 820.915389258, <f> 820.866711581\n",
        "pass 1.404, step 89, "
       ]
      },
      {
       "output_type": "stream",
       "stream": "stdout",
       "text": [
        "active 88/250, sfo time 105.583561182 s, func time 7348.12522912 s, f 814.794276035, <f> 820.717540125\n",
        "pass 1.408, step 90, "
       ]
      },
      {
       "output_type": "stream",
       "stream": "stdout",
       "text": [
        "active 88/250, sfo time 105.929275036 s, func time 7367.71981025 s, f 815.353735369, <f> 820.570980279\n",
        "pass 1.412, step 91, "
       ]
      },
      {
       "output_type": "stream",
       "stream": "stdout",
       "text": [
        "active 88/250, sfo time 106.222052097 s, func time 7387.37448025 s, f 818.099669569, <f> 820.428415423\n",
        "pass 1.416, step 92, "
       ]
      },
      {
       "output_type": "stream",
       "stream": "stdout",
       "text": [
        "active 88/250, sfo time 106.572916031 s, func time 7407.01543236 s, f 811.353885089, <f> 820.288224137\n",
        "pass 1.42, step 93, "
       ]
      },
      {
       "output_type": "stream",
       "stream": "stdout",
       "text": [
        "active 88/250, sfo time 106.877083063 s, func time 7426.6767993 s, f 817.963770965, <f> 820.157262202\n",
        "pass 1.424, step 94, "
       ]
      },
      {
       "output_type": "stream",
       "stream": "stdout",
       "text": [
        "active 88/250, sfo time 107.225631952 s, func time 7446.28202033 s, f 827.54718495, <f> 820.103878564\n",
        "pass 1.428, step 95, "
       ]
      },
      {
       "output_type": "stream",
       "stream": "stdout",
       "text": [
        "active 88/250, sfo time 107.571660995 s, func time 7465.96761727 s, f 812.565865592, <f> 819.968437828\n",
        "pass 1.432, step 96, "
       ]
      },
      {
       "output_type": "stream",
       "stream": "stdout",
       "text": [
        "active 88/250, sfo time 107.923305988 s, func time 7485.53001022 s, f 812.325994278, <f> 819.843239768\n",
        "pass 1.436, step 97, "
       ]
      },
      {
       "output_type": "stream",
       "stream": "stdout",
       "text": [
        "active 88/250, sfo time 108.228086233 s, func time 7505.15642405 s, f 810.783513834, <f> 819.862191452\n",
        "pass 1.44, step 98, "
       ]
      },
      {
       "output_type": "stream",
       "stream": "stdout",
       "text": [
        "active 88/250, sfo time 108.534239054 s, func time 7524.82870317 s, f 820.062850864, <f> 819.743208118\n",
        "pass 1.444, step 99, "
       ]
      },
      {
       "output_type": "stream",
       "stream": "stdout",
       "text": [
        "active 88/250, sfo time 108.883728027 s, func time 7544.45361328 s, f 814.517631651, <f> 819.657689417\n",
        "pass 1.448, step 100, "
       ]
      },
      {
       "output_type": "stream",
       "stream": "stdout",
       "text": [
        "active 88/250, sfo time 109.186357021 s, func time 7564.05335021 s, f 803.319285113, <f> 819.669042961\n",
        "pass 1.452, step 101, "
       ]
      },
      {
       "output_type": "stream",
       "stream": "stdout",
       "text": [
        "active 88/250, sfo time 109.494627953 s, func time 7583.65405917 s, f 805.099948008, <f> 819.669336358\n",
        "pass 1.456, step 102, "
       ]
      },
      {
       "output_type": "stream",
       "stream": "stdout",
       "text": [
        "active 88/250, sfo time 109.795686007 s, func time 7603.25817323 s, f 816.26840736, <f> 819.689887518\n",
        "pass 1.46, step 103, "
       ]
      },
      {
       "output_type": "stream",
       "stream": "stdout",
       "text": [
        "active 88/250, sfo time 110.142115831 s, func time 7622.8724494 s, f 818.007882451, <f> 819.613137543\n",
        "pass 1.464, step 104, "
       ]
      },
      {
       "output_type": "stream",
       "stream": "stdout",
       "text": [
        "active 88/250, sfo time 110.51127696 s, func time 7642.4807024 s, f 817.708252951, <f> 819.551031299\n",
        "pass 1.468, step 105, "
       ]
      },
      {
       "output_type": "stream",
       "stream": "stdout",
       "text": [
        "active 88/250, sfo time 110.854824066 s, func time 7662.04712343 s, f 812.838765881, <f> 819.549011885\n",
        "pass 1.472, step 106, "
       ]
      },
      {
       "output_type": "stream",
       "stream": "stdout",
       "text": [
        "active 88/250, sfo time 111.164185047 s, func time 7681.63889551 s, f 810.699319659, <f> 819.558607756\n",
        "pass 1.476, step 107, "
       ]
      },
      {
       "output_type": "stream",
       "stream": "stdout",
       "text": [
        "active 89/250, sfo time 111.48123312 s, func time 7701.22959352 s, f 814.109654002, <f> 819.549000626\n",
        "pass 1.48, step 108, "
       ]
      },
      {
       "output_type": "stream",
       "stream": "stdout",
       "text": [
        "active 89/250, sfo time 111.802633047 s, func time 7720.82616162 s, f 827.695386524, <f> 819.640533051\n",
        "pass 1.484, step 109, "
       ]
      },
      {
       "output_type": "stream",
       "stream": "stdout",
       "text": [
        "active 89/250, sfo time 112.118910074 s, func time 7740.41658568 s, f 827.057602176, <f> 819.633366935\n",
        "pass 1.488, step 110, "
       ]
      },
      {
       "output_type": "stream",
       "stream": "stdout",
       "text": [
        "active 89/250, sfo time 112.46729207 s, func time 7760.01496673 s, f 824.641400782, <f> 819.599401441\n",
        "pass 1.492, step 111, "
       ]
      },
      {
       "output_type": "stream",
       "stream": "stdout",
       "text": [
        "active 89/250, sfo time 112.771723032 s, func time 7779.69566274 s, f 800.650109676, <f> 819.62677077\n",
        "pass 1.496, step 112, "
       ]
      },
      {
       "output_type": "stream",
       "stream": "stdout",
       "text": [
        "active 89/250, sfo time 113.073068857 s, func time 7799.24401784 s, f 814.268041015, <f> 819.604779568\n",
        "pass 1.5, step 113, "
       ]
      },
      {
       "output_type": "stream",
       "stream": "stdout",
       "text": [
        "active 89/250, sfo time 113.380878925 s, func time 7818.85559869 s, f 815.813992041, <f> 819.562470651\n",
        "pass 1.504, step 114, "
       ]
      },
      {
       "output_type": "stream",
       "stream": "stdout",
       "text": [
        "active 90/250, sfo time 113.674186945 s, func time 7838.54762959 s, f 818.295539811, <f> 819.523189052\n",
        "pass 1.508, step 115, "
       ]
      },
      {
       "output_type": "stream",
       "stream": "stdout",
       "text": [
        "active 90/250, sfo time 113.995012045 s, func time 7858.13977456 s, f 828.855993207, <f> 819.626886876\n",
        "pass 1.512, step 116, "
       ]
      },
      {
       "output_type": "stream",
       "stream": "stdout",
       "text": [
        "active 90/250, sfo time 114.322820187 s, func time 7877.70937753 s, f 828.20911589, <f> 819.61969935\n",
        "pass 1.516, step 117, "
       ]
      },
      {
       "output_type": "stream",
       "stream": "stdout",
       "text": [
        "active 90/250, sfo time 114.611830235 s, func time 7897.31550646 s, f 820.276602493, <f> 819.585685712\n",
        "pass 1.52, step 118, "
       ]
      },
      {
       "output_type": "stream",
       "stream": "stdout",
       "text": [
        "active 90/250, sfo time 114.91740036 s, func time 7916.91390133 s, f 811.063003748, <f> 819.554488289\n",
        "pass 1.524, step 119, "
       ]
      },
      {
       "output_type": "stream",
       "stream": "stdout",
       "text": [
        "active 91/250, sfo time 115.221436501 s, func time 7936.55558538 s, f 806.037853559, <f> 819.55445939\n",
        "pass 1.528, step 120, "
       ]
      },
      {
       "output_type": "stream",
       "stream": "stdout",
       "text": [
        "active 91/250, sfo time 115.558454275 s, func time 7956.16162944 s, f 826.80319886, <f> 819.634115868\n",
        "pass 1.532, step 121, "
       ]
      },
      {
       "output_type": "stream",
       "stream": "stdout",
       "text": [
        "active 91/250, sfo time 115.888001442 s, func time 7975.81364131 s, f 826.168778939, <f> 819.62714422\n",
        "pass 1.536, step 122, "
       ]
      },
      {
       "output_type": "stream",
       "stream": "stdout",
       "text": [
        "active 91/250, sfo time 116.233925343 s, func time 7995.44636726 s, f 822.414863492, <f> 819.590692206\n",
        "pass 1.54, step 123, "
       ]
      },
      {
       "output_type": "stream",
       "stream": "stdout",
       "text": [
        "active 91/250, sfo time 116.577022314 s, func time 8015.02880526 s, f 825.538781294, <f> 819.557389781\n",
        "pass 1.544, step 124, "
       ]
      },
      {
       "output_type": "stream",
       "stream": "stdout",
       "text": [
        "active 91/250, sfo time 116.939966202 s, func time 8034.63614821 s, f 829.944096209, <f> 819.524325594\n",
        "pass 1.548, step 125, "
       ]
      },
      {
       "output_type": "stream",
       "stream": "stdout",
       "text": [
        "active 91/250, sfo time 117.294083118 s, func time 8054.28729033 s, f 828.176856494, <f> 819.491544188\n",
        "pass 1.552, step 126, "
       ]
      },
      {
       "output_type": "stream",
       "stream": "stdout",
       "text": [
        "active 91/250, sfo time 117.601029158 s, func time 8073.93466234 s, f 811.681448824, <f> 819.48595872\n",
        "pass 1.556, step 127, "
       ]
      },
      {
       "output_type": "stream",
       "stream": "stdout",
       "text": [
        "active 91/250, sfo time 117.944785118 s, func time 8093.5265584 s, f 827.515604862, <f> 819.457137913\n",
        "pass 1.56, step 128, "
       ]
      },
      {
       "output_type": "stream",
       "stream": "stdout",
       "text": [
        "active 91/250, sfo time 118.253758192 s, func time 8113.18676233 s, f 811.604695799, <f> 819.427538023\n",
        "pass 1.564, step 129, "
       ]
      },
      {
       "output_type": "stream",
       "stream": "stdout",
       "text": [
        "active 91/250, sfo time 118.602193117 s, func time 8132.78916931 s, f 832.32806182, <f> 819.395698415\n",
        "pass 1.568, step 130, "
       ]
      },
      {
       "output_type": "stream",
       "stream": "stdout",
       "text": [
        "active 91/250, sfo time 118.914638042 s, func time 8152.37685728 s, f 813.367434622, <f> 819.393790011\n",
        "pass 1.572, step 131, "
       ]
      },
      {
       "output_type": "stream",
       "stream": "stdout",
       "text": [
        "active 91/250, sfo time 119.228294134 s, func time 8172.03090715 s, f 799.217857241, <f> 819.395854244\n",
        "pass 1.576, step 132, "
       ]
      },
      {
       "output_type": "stream",
       "stream": "stdout",
       "text": [
        "active 91/250, sfo time 119.528569937 s, func time 8191.67265534 s, f 798.752463764, <f> 819.397837344\n",
        "pass 1.58, step 133, "
       ]
      },
      {
       "output_type": "stream",
       "stream": "stdout",
       "text": [
        "active 91/250, sfo time 119.881565094 s, func time 8211.25686932 s, f 825.297724017, <f> 819.366197329\n",
        "pass 1.584, step 134, "
       ]
      },
      {
       "output_type": "stream",
       "stream": "stdout",
       "text": [
        "active 91/250, sfo time 120.225108862 s, func time 8230.84273243 s, f 826.853057491, <f> 819.33507217\n",
        "pass 1.588, step 135, "
       ]
      },
      {
       "output_type": "stream",
       "stream": "stdout",
       "text": [
        "active 91/250, sfo time 120.565126896 s, func time 8250.3911314 s, f 826.678469856, <f> 819.306076351\n",
        "pass 1.592, step 136, "
       ]
      },
      {
       "output_type": "stream",
       "stream": "stdout",
       "text": [
        "active 91/250, sfo time 120.958925962 s, func time 8269.96033931 s, f 830.064550387, <f> 819.274870757\n",
        "pass 1.596, step 137, "
       ]
      },
      {
       "output_type": "stream",
       "stream": "stdout",
       "text": [
        "active 91/250, sfo time 121.278529167 s, func time 8289.61825728 s, f 816.860240004, <f> 819.252615751\n",
        "pass 1.6, step 138, "
       ]
      },
      {
       "output_type": "stream",
       "stream": "stdout",
       "text": [
        "active 91/250, sfo time 121.618459225 s, func time 8309.24017525 s, f 822.486167497, <f> 819.223460863\n",
        "pass 1.604, step 139, "
       ]
      },
      {
       "output_type": "stream",
       "stream": "stdout",
       "text": [
        "active 91/250, sfo time 121.977519035 s, func time 8328.79864144 s, f 826.561212215, <f> 819.192394458\n",
        "pass 1.608, step 140, "
       ]
      },
      {
       "output_type": "stream",
       "stream": "stdout",
       "text": [
        "active 91/250, sfo time 122.393177032 s, func time 8348.38998151 s, f 826.003267868, <f> 819.161297276\n",
        "pass 1.612, step 141, "
       ]
      },
      {
       "output_type": "stream",
       "stream": "stdout",
       "text": [
        "active 91/250, sfo time 122.693405151 s, func time 8368.04627943 s, f 808.175365133, <f> 819.163300269\n",
        "pass 1.616, step 142, "
       ]
      },
      {
       "output_type": "stream",
       "stream": "stdout",
       "text": [
        "active 91/250, sfo time 123.029835224 s, func time 8387.6764884 s, f 802.420095729, <f> 819.159839583\n",
        "pass 1.62, step 143, "
       ]
      },
      {
       "output_type": "stream",
       "stream": "stdout",
       "text": [
        "active 91/250, sfo time 123.45982933 s, func time 8407.21874642 s, f 824.465013625, <f> 819.128317472\n",
        "pass 1.624, step 144, "
       ]
      },
      {
       "output_type": "stream",
       "stream": "stdout",
       "text": [
        "active 91/250, sfo time 123.759276152 s, func time 8426.83723354 s, f 817.485847183, <f> 819.10894362\n",
        "pass 1.628, step 145, "
       ]
      },
      {
       "output_type": "stream",
       "stream": "stdout",
       "text": [
        "active 91/250, sfo time 124.104799271 s, func time 8446.42015958 s, f 823.697842623, <f> 819.078584568\n",
        "pass 1.632, step 146, "
       ]
      },
      {
       "output_type": "stream",
       "stream": "stdout",
       "text": [
        "active 91/250, sfo time 124.576182127 s, func time 8466.00734067 s, f 830.241502798, <f> 819.045186913\n",
        "pass 1.636, step 147, "
       ]
      },
      {
       "output_type": "stream",
       "stream": "stdout",
       "text": [
        "active 91/250, sfo time 124.924453259 s, func time 8485.62348366 s, f 821.338960902, <f> 819.013365304\n",
        "pass 1.64, step 148, "
       ]
      },
      {
       "output_type": "stream",
       "stream": "stdout",
       "text": [
        "active 91/250, sfo time 125.280568361 s, func time 8505.14628458 s, f 822.546933802, <f> 818.981688719\n",
        "pass 1.644, step 149, "
       ]
      },
      {
       "output_type": "stream",
       "stream": "stdout",
       "text": [
        "active 91/250, sfo time 125.671717167 s, func time 8524.75998473 s, f 825.616734712, <f> 818.94973621\n",
        "pass 1.648, step 150, "
       ]
      },
      {
       "output_type": "stream",
       "stream": "stdout",
       "text": [
        "active 91/250, sfo time 125.972880125 s, func time 8544.31965256 s, f 800.961818199, <f> 818.943712896\n",
        "pass 1.652, step 151, "
       ]
      },
      {
       "output_type": "stream",
       "stream": "stdout",
       "text": [
        "active 91/250, sfo time 126.327138424 s, func time 8563.87127042 s, f 820.03739283, <f> 818.913544944\n",
        "pass 1.656, step 152, "
       ]
      },
      {
       "output_type": "stream",
       "stream": "stdout",
       "text": [
        "active 91/250, sfo time 126.634068251 s, func time 8583.51052952 s, f 807.892007863, <f> 818.899606524\n",
        "pass 1.66, step 153, "
       ]
      },
      {
       "output_type": "stream",
       "stream": "stdout",
       "text": [
        "active 91/250, sfo time 126.939999104 s, func time 8603.13138461 s, f 809.222262152, <f> 818.885766499\n",
        "pass 1.664, step 154, "
       ]
      },
      {
       "output_type": "stream",
       "stream": "stdout",
       "text": [
        "active 91/250, sfo time 127.286412716 s, func time 8622.73192382 s, f 821.976411451, <f> 818.852881611\n",
        "pass 1.668, step 155, "
       ]
      },
      {
       "output_type": "stream",
       "stream": "stdout",
       "text": [
        "active 91/250, sfo time 127.586597681 s, func time 8642.35777283 s, f 795.211366206, <f> 818.856947178\n",
        "pass 1.672, step 156, "
       ]
      },
      {
       "output_type": "stream",
       "stream": "stdout",
       "text": [
        "active 91/250, sfo time 127.894459724 s, func time 8661.94383574 s, f 819.325950727, <f> 818.839207359\n",
        "pass 1.676, step 157, "
       ]
      },
      {
       "output_type": "stream",
       "stream": "stdout",
       "text": [
        "active 91/250, sfo time 128.239190578 s, func time 8681.52747679 s, f 818.645367571, <f> 818.80824591\n",
        "pass 1.68, step 158, "
       ]
      },
      {
       "output_type": "stream",
       "stream": "stdout",
       "text": [
        "active 91/250, sfo time 128.589933395 s, func time 8701.22387385 s, f 831.081017114, <f> 818.771827488\n",
        "pass 1.684, step 159, "
       ]
      },
      {
       "output_type": "stream",
       "stream": "stdout",
       "text": [
        "active 91/250, sfo time 128.895563364 s, func time 8720.80864096 s, f 819.164208898, <f> 818.754419797\n",
        "pass 1.688, step 160, "
       ]
      },
      {
       "output_type": "stream",
       "stream": "stdout",
       "text": [
        "active 91/250, sfo time 129.239647388 s, func time 8740.35402298 s, f 822.692857037, <f> 818.719280863\n",
        "pass 1.692, step 161, "
       ]
      },
      {
       "output_type": "stream",
       "stream": "stdout",
       "text": [
        "active 91/250, sfo time 129.550510406 s, func time 8759.9820559 s, f 813.186198763, <f> 818.709435669\n",
        "pass 1.696, step 162, "
       ]
      },
      {
       "output_type": "stream",
       "stream": "stdout",
       "text": [
        "active 91/250, sfo time 129.852093458 s, func time 8779.56729603 s, f 813.570426989, <f> 818.6981319\n",
        "pass 1.7, step 163, "
       ]
      },
      {
       "output_type": "stream",
       "stream": "stdout",
       "text": [
        "active 91/250, sfo time 130.196647167 s, func time 8799.12174821 s, f 826.151303522, <f> 818.66324174\n",
        "pass 1.704, step 164, "
       ]
      },
      {
       "output_type": "stream",
       "stream": "stdout",
       "text": [
        "active 91/250, sfo time 130.49360919 s, func time 8818.76854825 s, f 802.558835417, <f> 818.656992638\n",
        "pass 1.708, step 165, "
       ]
      },
      {
       "output_type": "stream",
       "stream": "stdout",
       "text": [
        "active 91/250, sfo time 130.874955177 s, func time 8838.33567023 s, f 824.806789232, <f> 818.617740231\n",
        "pass 1.712, step 166, "
       ]
      },
      {
       "output_type": "stream",
       "stream": "stdout",
       "text": [
        "active 91/250, sfo time 131.246102333 s, func time 8857.96103215 s, f 827.103061252, <f> 818.581040695\n",
        "pass 1.716, step 167, "
       ]
      },
      {
       "output_type": "stream",
       "stream": "stdout",
       "text": [
        "active 91/250, sfo time 131.558396101 s, func time 8877.58442926 s, f 810.339716045, <f> 818.563282313\n",
        "pass 1.72, step 168, "
       ]
      },
      {
       "output_type": "stream",
       "stream": "stdout",
       "text": [
        "active 91/250, sfo time 131.922200918 s, func time 8897.1764164 s, f 822.53100519, <f> 818.526105143\n",
        "pass 1.724, step 169, "
       ]
      },
      {
       "output_type": "stream",
       "stream": "stdout",
       "text": [
        "active 91/250, sfo time 132.311693907 s, func time 8916.72258735 s, f 828.71855955, <f> 818.483245637\n",
        "pass 1.728, step 170, "
       ]
      },
      {
       "output_type": "stream",
       "stream": "stdout",
       "text": [
        "active 91/250, sfo time 132.608819962 s, func time 8936.34505534 s, f 815.08522842, <f> 818.467660014\n",
        "pass 1.732, step 171, "
       ]
      },
      {
       "output_type": "stream",
       "stream": "stdout",
       "text": [
        "active 91/250, sfo time 132.914837122 s, func time 8955.97463131 s, f 825.619116439, <f> 818.422932043\n",
        "pass 1.736, step 172, "
       ]
      },
      {
       "output_type": "stream",
       "stream": "stdout",
       "text": [
        "active 91/250, sfo time 133.23291111 s, func time 8975.56447029 s, f 822.996224189, <f> 818.375438779\n",
        "pass 1.74, step 173, "
       ]
      },
      {
       "output_type": "stream",
       "stream": "stdout",
       "text": [
        "active 91/250, sfo time 133.539920092 s, func time 8995.17374825 s, f 825.394991039, <f> 818.325170478\n",
        "pass 1.744, step 174, "
       ]
      },
      {
       "output_type": "stream",
       "stream": "stdout",
       "text": [
        "active 91/250, sfo time 133.891845226 s, func time 9014.71342421 s, f 824.303925009, <f> 818.282076239\n",
        "pass 1.748, step 175, "
       ]
      },
      {
       "output_type": "stream",
       "stream": "stdout",
       "text": [
        "active 91/250, sfo time 134.188520193 s, func time 9034.30737424 s, f 821.059513682, <f> 818.226284913\n",
        "pass 1.752, step 176, "
       ]
      },
      {
       "output_type": "stream",
       "stream": "stdout",
       "text": [
        "active 91/250, sfo time 134.546049118 s, func time 9053.89427519 s, f 823.671330145, <f> 818.167144332\n",
        "pass 1.756, step 177, "
       ]
      },
      {
       "output_type": "stream",
       "stream": "stdout",
       "text": [
        "active 91/250, sfo time 134.842014074 s, func time 9073.51519513 s, f 819.81661299, <f> 818.156365909\n",
        "pass 1.76, step 178, "
       ]
      },
      {
       "output_type": "stream",
       "stream": "stdout",
       "text": [
        "active 91/250, sfo time 135.187678099 s, func time 9093.11763215 s, f 822.513623859, <f> 818.106432082\n",
        "pass 1.764, step 179, "
       ]
      },
      {
       "output_type": "stream",
       "stream": "stdout",
       "text": [
        "active 91/250, sfo time 135.490399122 s, func time 9112.72530913 s, f 816.281957576, <f> 818.095278596\n",
        "pass 1.768, step 180, "
       ]
      },
      {
       "output_type": "stream",
       "stream": "stdout",
       "text": [
        "active 91/250, sfo time 135.791634083 s, func time 9132.37973523 s, f 818.042084811, <f> 818.083824175\n",
        "pass 1.772, step 181, "
       ]
      },
      {
       "output_type": "stream",
       "stream": "stdout",
       "text": [
        "active 91/250, sfo time 136.136381149 s, func time 9152.01915812 s, f 821.303751283, <f> 818.030362332\n",
        "pass 1.776, step 182, "
       ]
      },
      {
       "output_type": "stream",
       "stream": "stdout",
       "text": [
        "active 91/250, sfo time 136.492348433 s, func time 9171.68491197 s, f 822.608562623, <f> 817.968817791\n",
        "pass 1.78, step 183, "
       ]
      },
      {
       "output_type": "stream",
       "stream": "stdout",
       "text": [
        "active 91/250, sfo time 136.840419531 s, func time 9191.26046991 s, f 816.087810271, <f> 817.957531656\n",
        "pass 1.784, step 184, "
       ]
      },
      {
       "output_type": "stream",
       "stream": "stdout",
       "text": [
        "active 91/250, sfo time 137.140704393 s, func time 9210.89687395 s, f 820.740925148, <f> 817.949661426\n",
        "pass 1.788, step 185, "
       ]
      },
      {
       "output_type": "stream",
       "stream": "stdout",
       "text": [
        "active 91/250, sfo time 137.443859577 s, func time 9230.47325683 s, f 820.070199072, <f> 817.940373622\n",
        "pass 1.792, step 186, "
       ]
      },
      {
       "output_type": "stream",
       "stream": "stdout",
       "text": [
        "active 91/250, sfo time 137.747659683 s, func time 9250.08363986 s, f 814.018779989, <f> 817.931851687\n",
        "pass 1.796, step 187, "
       ]
      },
      {
       "output_type": "stream",
       "stream": "stdout",
       "text": [
        "active 91/250, sfo time 138.09274888 s, func time 9269.68689966 s, f 814.549884431, <f> 817.92301816\n",
        "pass 1.8, step 188, "
       ]
      },
      {
       "output_type": "stream",
       "stream": "stdout",
       "text": [
        "active 91/250, sfo time 138.454926014 s, func time 9289.29721761 s, f 810.313739239, <f> 817.911587986\n",
        "pass 1.804, step 189, "
       ]
      },
      {
       "output_type": "stream",
       "stream": "stdout",
       "text": [
        "active 91/250, sfo time 138.813419819 s, func time 9308.89626265 s, f 817.553421102, <f> 817.905585256\n",
        "pass 1.808, step 190, "
       ]
      },
      {
       "output_type": "stream",
       "stream": "stdout",
       "text": [
        "active 91/250, sfo time 139.158978701 s, func time 9328.43468881 s, f 817.35412637, <f> 817.898885865\n",
        "pass 1.812, step 191, "
       ]
      },
      {
       "output_type": "stream",
       "stream": "stdout",
       "text": [
        "active 91/250, sfo time 139.47312665 s, func time 9348.07169485 s, f 821.870999409, <f> 817.836510199\n",
        "pass 1.816, step 192, "
       ]
      },
      {
       "output_type": "stream",
       "stream": "stdout",
       "text": [
        "active 91/250, sfo time 139.887247801 s, func time 9367.63533974 s, f 811.90080645, <f> 817.829201857\n",
        "pass 1.82, step 193, "
       ]
      },
      {
       "output_type": "stream",
       "stream": "stdout",
       "text": [
        "active 91/250, sfo time 140.233063936 s, func time 9387.21079373 s, f 811.046224614, <f> 817.815138454\n",
        "pass 1.824, step 194, "
       ]
      },
      {
       "output_type": "stream",
       "stream": "stdout",
       "text": [
        "active 91/250, sfo time 140.531806946 s, func time 9406.82543468 s, f 810.033804855, <f> 817.806899894\n",
        "pass 1.828, step 195, "
       ]
      },
      {
       "output_type": "stream",
       "stream": "stdout",
       "text": [
        "active 91/250, sfo time 140.829922915 s, func time 9426.45187473 s, f 819.472155417, <f> 817.800408735\n",
        "pass 1.832, step 196, "
       ]
      },
      {
       "output_type": "stream",
       "stream": "stdout",
       "text": [
        "active 91/250, sfo time 141.134011984 s, func time 9446.04029059 s, f 813.39299303, <f> 817.788050069\n",
        "pass 1.836, step 197, "
       ]
      },
      {
       "output_type": "stream",
       "stream": "stdout",
       "text": [
        "active 91/250, sfo time 141.435277224 s, func time 9465.66230345 s, f 805.050890593, <f> 817.807078701\n",
        "pass 1.84, step 198, "
       ]
      },
      {
       "output_type": "stream",
       "stream": "stdout",
       "text": [
        "active 91/250, sfo time 141.773344278 s, func time 9485.20786142 s, f 817.350766148, <f> 817.799857642\n",
        "pass 1.844, step 199, "
       ]
      },
      {
       "output_type": "stream",
       "stream": "stdout",
       "text": [
        "active 91/250, sfo time 142.119924307 s, func time 9504.76707244 s, f 816.757186404, <f> 817.789406362\n",
        "pass 1.848, step 200, "
       ]
      },
      {
       "output_type": "stream",
       "stream": "stdout",
       "text": [
        "active 91/250, sfo time 142.477027416 s, func time 9524.33884549 s, f 815.186853669, <f> 817.777521156\n",
        "pass 1.852, step 201, "
       ]
      },
      {
       "output_type": "stream",
       "stream": "stdout",
       "text": [
        "active 91/250, sfo time 142.778478384 s, func time 9543.95202851 s, f 806.613012782, <f> 817.794148242\n",
        "pass 1.856, step 202, "
       ]
      },
      {
       "output_type": "stream",
       "stream": "stdout",
       "text": [
        "active 91/250, sfo time 143.14832139 s, func time 9563.46727538 s, f 817.776106168, <f> 817.718705444\n",
        "pass 1.86, step 203, "
       ]
      },
      {
       "output_type": "stream",
       "stream": "stdout",
       "text": [
        "active 91/250, sfo time 143.465839148 s, func time 9583.0587635 s, f 811.453429643, <f> 817.703481969\n",
        "pass 1.864, step 204, "
       ]
      },
      {
       "output_type": "stream",
       "stream": "stdout",
       "text": [
        "active 91/250, sfo time 143.828984499 s, func time 9602.64060831 s, f 812.482976212, <f> 817.685606388\n",
        "pass 1.868, step 205, "
       ]
      },
      {
       "output_type": "stream",
       "stream": "stdout",
       "text": [
        "active 91/250, sfo time 144.20133543 s, func time 9622.2348454 s, f 809.661326947, <f> 817.674199875\n",
        "pass 1.872, step 206, "
       ]
      },
      {
       "output_type": "stream",
       "stream": "stdout",
       "text": [
        "active 91/250, sfo time 144.503391504 s, func time 9641.88414741 s, f 802.550003515, <f> 817.695077829\n",
        "pass 1.876, step 207, "
       ]
      },
      {
       "output_type": "stream",
       "stream": "stdout",
       "text": [
        "active 91/250, sfo time 144.858256578 s, func time 9661.48781133 s, f 814.963733694, <f> 817.685734331\n",
        "pass 1.88, step 208, "
       ]
      },
      {
       "output_type": "stream",
       "stream": "stdout",
       "text": [
        "active 91/250, sfo time 145.184426546 s, func time 9681.11064029 s, f 813.495599855, <f> 817.677245967\n",
        "pass 1.884, step 209, "
       ]
      },
      {
       "output_type": "stream",
       "stream": "stdout",
       "text": [
        "active 91/250, sfo time 145.572754622 s, func time 9700.72768736 s, f 815.755653728, <f> 817.604067837\n",
        "pass 1.888, step 210, "
       ]
      },
      {
       "output_type": "stream",
       "stream": "stdout",
       "text": [
        "active 91/250, sfo time 145.883200407 s, func time 9720.33167744 s, f 817.129082736, <f> 817.591249628\n",
        "pass 1.892, step 211, "
       ]
      },
      {
       "output_type": "stream",
       "stream": "stdout",
       "text": [
        "active 91/250, sfo time 146.259123325 s, func time 9739.88519359 s, f 818.549556862, <f> 817.514444964\n",
        "pass 1.896, step 212, "
       ]
      },
      {
       "output_type": "stream",
       "stream": "stdout",
       "text": [
        "active 92/250, sfo time 146.666114092 s, func time 9759.5277307 s, f 822.41066942, <f> 817.431660054\n",
        "pass 1.9, step 213, "
       ]
      },
      {
       "output_type": "stream",
       "stream": "stdout",
       "text": [
        "active 92/250, sfo time 147.031982183 s, func time 9779.47032571 s, f 822.618475671, <f> 817.488038485\n",
        "pass 1.904, step 214, "
       ]
      },
      {
       "output_type": "stream",
       "stream": "stdout",
       "text": [
        "active 92/250, sfo time 147.369349241 s, func time 9799.27916861 s, f 821.220792353, <f> 817.472846275\n",
        "pass 1.908, step 215, "
       ]
      },
      {
       "output_type": "stream",
       "stream": "stdout",
       "text": [
        "active 92/250, sfo time 147.71497941 s, func time 9818.87489557 s, f 820.432366239, <f> 817.388667033\n",
        "pass 1.912, step 216, "
       ]
      },
      {
       "output_type": "stream",
       "stream": "stdout",
       "text": [
        "active 92/250, sfo time 148.01624918 s, func time 9838.5156846 s, f 819.556173624, <f> 817.380836284\n",
        "pass 1.916, step 217, "
       ]
      },
      {
       "output_type": "stream",
       "stream": "stdout",
       "text": [
        "active 92/250, sfo time 148.30753231 s, func time 9858.08623552 s, f 810.116329806, <f> 817.37054635\n",
        "pass 1.92, step 218, "
       ]
      },
      {
       "output_type": "stream",
       "stream": "stdout",
       "text": [
        "active 92/250, sfo time 148.613095522 s, func time 9877.65019846 s, f 807.96226569, <f> 817.391463873\n",
        "pass 1.924, step 219, "
       ]
      },
      {
       "output_type": "stream",
       "stream": "stdout",
       "text": [
        "active 92/250, sfo time 148.920623779 s, func time 9897.25857329 s, f 812.847413079, <f> 817.404137398\n",
        "pass 1.928, step 220, "
       ]
      },
      {
       "output_type": "stream",
       "stream": "stdout",
       "text": [
        "active 92/250, sfo time 149.280082941 s, func time 9916.89687133 s, f 819.808287502, <f> 817.320362209\n",
        "pass 1.932, step 221, "
       ]
      },
      {
       "output_type": "stream",
       "stream": "stdout",
       "text": [
        "active 92/250, sfo time 149.584504843 s, func time 9936.56297231 s, f 810.957735155, <f> 817.313330028\n",
        "pass 1.936, step 222, "
       ]
      },
      {
       "output_type": "stream",
       "stream": "stdout",
       "text": [
        "active 92/250, sfo time 149.90060997 s, func time 9956.15923023 s, f 824.526571581, <f> 817.228531221\n",
        "pass 1.94, step 223, "
       ]
      },
      {
       "output_type": "stream",
       "stream": "stdout",
       "text": [
        "active 92/250, sfo time 150.259214163 s, func time 9975.71737814 s, f 817.606871372, <f> 817.144934997\n",
        "pass 1.944, step 224, "
       ]
      },
      {
       "output_type": "stream",
       "stream": "stdout",
       "text": [
        "active 92/250, sfo time 150.564578295 s, func time 9995.30387402 s, f 813.798157514, <f> 817.149616767\n",
        "pass 1.948, step 225, "
       ]
      },
      {
       "output_type": "stream",
       "stream": "stdout",
       "text": [
        "active 92/250, sfo time 150.869932175 s, func time 10014.884856 s, f 802.471513998, <f> 817.184982602\n",
        "pass 1.952, step 226, "
       ]
      },
      {
       "output_type": "stream",
       "stream": "stdout",
       "text": [
        "active 92/250, sfo time 151.218128204 s, func time 10034.4525049 s, f 818.481942621, <f> 817.095889914\n",
        "pass 1.956, step 227, "
       ]
      },
      {
       "output_type": "stream",
       "stream": "stdout",
       "text": [
        "active 92/250, sfo time 151.611020327 s, func time 10054.0666678 s, f 819.224185152, <f> 817.012967389\n",
        "pass 1.96, step 228, "
       ]
      },
      {
       "output_type": "stream",
       "stream": "stdout",
       "text": [
        "active 92/250, sfo time 151.911464453 s, func time 10073.7070768 s, f 800.87279775, <f> 817.036014497\n",
        "pass 1.964, step 229, "
       ]
      },
      {
       "output_type": "stream",
       "stream": "stdout",
       "text": [
        "active 92/250, sfo time 152.322894335 s, func time 10093.2727878 s, f 821.746212119, <f> 816.945597777\n",
        "pass 1.968, step 230, "
       ]
      },
      {
       "output_type": "stream",
       "stream": "stdout",
       "text": [
        "active 92/250, sfo time 152.642413378 s, func time 10112.9524848 s, f 814.737141953, <f> 816.922520624\n",
        "pass 1.972, step 231, "
       ]
      },
      {
       "output_type": "stream",
       "stream": "stdout",
       "text": [
        "active 92/250, sfo time 152.982149601 s, func time 10132.5587127 s, f 814.704404361, <f> 816.837936242\n",
        "pass 1.976, step 232, "
       ]
      },
      {
       "output_type": "stream",
       "stream": "stdout",
       "text": [
        "active 92/250, sfo time 153.291202784 s, func time 10152.1419916 s, f 817.570112428, <f> 816.740206897\n",
        "pass 1.98, step 233, "
       ]
      },
      {
       "output_type": "stream",
       "stream": "stdout",
       "text": [
        "active 92/250, sfo time 153.606652498 s, func time 10171.7477157 s, f 817.597054833, <f> 816.648835016\n",
        "pass 1.984, step 234, "
       ]
      },
      {
       "output_type": "stream",
       "stream": "stdout",
       "text": [
        "active 92/250, sfo time 153.955928326 s, func time 10191.3223398 s, f 814.910912602, <f> 816.553324907\n",
        "pass 1.988, step 235, "
       ]
      },
      {
       "output_type": "stream",
       "stream": "stdout",
       "text": [
        "active 92/250, sfo time 154.294112444 s, func time 10210.9475098 s, f 815.172246341, <f> 816.452316567\n",
        "pass 1.992, step 236, "
       ]
      },
      {
       "output_type": "stream",
       "stream": "stdout",
       "text": [
        "active 92/250, sfo time 154.595362425 s, func time 10230.6144478 s, f 810.675992057, <f> 816.479497295\n",
        "pass 1.996, step 237, "
       ]
      },
      {
       "output_type": "stream",
       "stream": "stdout",
       "text": [
        "active 92/250, sfo time 154.904521227 s, func time 10250.247396 s, f 804.738314433, <f> 816.504695324\n",
        "pass 2.0, step 238, "
       ]
      },
      {
       "output_type": "stream",
       "stream": "stdout",
       "text": [
        "active 92/250, sfo time 155.210039139 s, func time 10269.836926 s, f 816.529302969, <f> 816.494298104\n",
        "pass 2.004, step 239, "
       ]
      },
      {
       "output_type": "stream",
       "stream": "stdout",
       "text": [
        "active 92/250, sfo time 155.509904146 s, func time 10289.469429 s, f 820.640988832, <f> 816.389944692\n",
        "pass 2.008, step 240, "
       ]
      },
      {
       "output_type": "stream",
       "stream": "stdout",
       "text": [
        "active 93/250, sfo time 155.859683037 s, func time 10309.0657871 s, f 812.926160892, <f> 816.298501213\n",
        "pass 2.012, step 241, "
       ]
      },
      {
       "output_type": "stream",
       "stream": "stdout",
       "text": [
        "active 93/250, sfo time 156.20533824 s, func time 10328.6260459 s, f 819.739238401, <f> 816.335498387\n",
        "pass 2.016, step 242, "
       ]
      },
      {
       "output_type": "stream",
       "stream": "stdout",
       "text": [
        "active 94/250, sfo time 156.536850452 s, func time 10348.2042029 s, f 818.166656234, <f> 816.318588902\n",
        "pass 2.02, step 243, "
       ]
      },
      {
       "output_type": "stream",
       "stream": "stdout",
       "text": [
        "active 94/250, sfo time 156.884048462 s, func time 10367.802151 s, f 823.815308036, <f> 816.398341233\n",
        "pass 2.024, step 244, "
       ]
      },
      {
       "output_type": "stream",
       "stream": "stdout",
       "text": [
        "active 95/250, sfo time 157.215252638 s, func time 10387.4620259 s, f 822.29049785, <f> 816.382119848\n",
        "pass 2.028, step 245, "
       ]
      },
      {
       "output_type": "stream",
       "stream": "stdout",
       "text": [
        "active 95/250, sfo time 157.559618473 s, func time 10407.0901389 s, f 822.111981788, <f> 816.442434184\n",
        "pass 2.032, step 246, "
       ]
      },
      {
       "output_type": "stream",
       "stream": "stdout",
       "text": [
        "active 96/250, sfo time 157.88151145 s, func time 10426.6777279 s, f 820.641990231, <f> 816.426960589\n",
        "pass 2.036, step 247, "
       ]
      },
      {
       "output_type": "stream",
       "stream": "stdout",
       "text": [
        "active 96/250, sfo time 158.227959394 s, func time 10446.288065 s, f 826.528724639, <f> 816.532187298\n",
        "pass 2.04, step 248, "
       ]
      },
      {
       "output_type": "stream",
       "stream": "stdout",
       "text": [
        "active 97/250, sfo time 158.556073427 s, func time 10466.0209179 s, f 825.111001301, <f> 816.517419346\n",
        "pass 2.044, step 249, "
       ]
      },
      {
       "output_type": "stream",
       "stream": "stdout",
       "text": [
        "active 97/250, sfo time 158.893531561 s, func time 10485.5882947 s, f 828.222803997, <f> 816.638093415\n",
        "active 97/250, pass #2.048, sfo 158.893531561 s, func 10485.5882947 s, <f> 816.638093415\n"
       ]
      },
      {
       "metadata": {},
       "output_type": "pyout",
       "prompt_number": 151,
       "text": [
        "array([ 0.03740416, -0.01476642,  0.00696864, ...,  0.05167739,\n",
        "        0.13958861, -0.05852773])"
       ]
      }
     ],
     "prompt_number": 151
    },
    {
     "cell_type": "code",
     "collapsed": false,
     "input": [
      "plt.plot(optimizer.hist_f_flat)"
     ],
     "language": "python",
     "metadata": {},
     "outputs": [
      {
       "metadata": {},
       "output_type": "pyout",
       "prompt_number": 152,
       "text": [
        "[<matplotlib.lines.Line2D at 0x123c532d0>]"
       ]
      },
      {
       "metadata": {},
       "output_type": "display_data",
       "png": "[encoded data removed]",
       "text": [
        "<matplotlib.figure.Figure at 0x1133af090>"
       ]
      }
     ],
     "prompt_number": 152
    },
    {
     "cell_type": "code",
     "collapsed": false,
     "input": [
      "W = optimizer.theta.reshape(isingspins32.shape[1], -1)\n",
      "fig, axs = plt.subplots(3,5, figsize=(25,15))\n",
      "selection = np.random.randint(0,high=W.shape[1], size=3*5)\n",
      "mx, mn = W.max(), W.min()\n",
      "print mx, mn\n",
      "for ax, s in zip(axs.flat, selection):\n",
      "    ax.matshow(W[:,s].reshape(32,32), cmap=\"Greys\", vmin=mn, vmax=mx)\n",
      "    ax.set_title(str(s))\n",
      "    ax.set_xticks([])\n",
      "    ax.set_yticks([])\n",
      "    plt.suptitle('Weights for RBM trained on 32x32 Ising Model', fontsize=20)"
     ],
     "language": "python",
     "metadata": {},
     "outputs": [
      {
       "output_type": "stream",
       "stream": "stdout",
       "text": [
        "0.458139183898 -0.373880978794\n"
       ]
      },
      {
       "metadata": {},
       "output_type": "display_data",
       "png": "[encoded data removed]",
       "text": [
        "<matplotlib.figure.Figure at 0x123c53ed0>"
       ]
      }
     ],
     "prompt_number": 153
    },
    {
     "cell_type": "code",
     "collapsed": false,
     "input": [
      "isingspins32.shape"
     ],
     "language": "python",
     "metadata": {},
     "outputs": [
      {
       "metadata": {},
       "output_type": "pyout",
       "prompt_number": 14,
       "text": [
        "(50000, 1024)"
       ]
      }
     ],
     "prompt_number": 14
    },
    {
     "cell_type": "code",
     "collapsed": false,
     "input": [
      "def saveSpinsBinary(filename, spins):\n",
      "    with open(filename, 'wb') as outfile:\n",
      "        for sp in spins:\n",
      "            outspins = struct.pack('B'*128, *list(np.packbits((isingspins32[0]+1)/2)))\n",
      "            outfile.write(outspins)"
     ],
     "language": "python",
     "metadata": {},
     "outputs": [],
     "prompt_number": 169
    },
    {
     "cell_type": "code",
     "collapsed": false,
     "input": [
      "saveSpinsBinary('L_32_T_2-45_binary.dat', isingspins32)"
     ],
     "language": "python",
     "metadata": {},
     "outputs": [],
     "prompt_number": 170
    },
    {
     "cell_type": "code",
     "collapsed": false,
     "input": [
      "qux = struct.pack('B'*128, *list(np.packbits((isingspins32[0]+1)/2)))\n",
      "qux == bytes(bytearray(np.packbits((isingspins32[0]+1)/2)))"
     ],
     "language": "python",
     "metadata": {},
     "outputs": [
      {
       "metadata": {},
       "output_type": "pyout",
       "prompt_number": 126,
       "text": [
        "True"
       ]
      }
     ],
     "prompt_number": 126
    },
    {
     "cell_type": "code",
     "collapsed": false,
     "input": [
      "np.sum(isingspins32[0] == 2*(np.unpackbits(np.array(struct.unpack_from('B'*128, zero), dtype='uint8'))).astype('int')-1)"
     ],
     "language": "python",
     "metadata": {},
     "outputs": [
      {
       "metadata": {},
       "output_type": "pyout",
       "prompt_number": 134,
       "text": [
        "1024"
       ]
      }
     ],
     "prompt_number": 134
    },
    {
     "cell_type": "code",
     "collapsed": false,
     "input": [
      "f = open('L_32_T_2-45_binary.dat', 'rb')\n",
      "f.close()"
     ],
     "language": "python",
     "metadata": {},
     "outputs": [],
     "prompt_number": 135
    },
    {
     "cell_type": "code",
     "collapsed": false,
     "input": [
      "f = open('foo.txt', 'w')\n",
      "test = reduce(lambda s1, s2: s1+s2, str(list((isingspins32[0]+1)/2)).split(', '))\n",
      "f.write(test)\n",
      "f.close()"
     ],
     "language": "python",
     "metadata": {},
     "outputs": [],
     "prompt_number": 197
    },
    {
     "cell_type": "code",
     "collapsed": false,
     "input": [
      "boo = '255 255 253 255 255 159 190 251 255 255 183 251 251 255 243 31 255 255 120 31 255 248 224 15 247 220 224 14 247 240 248 0 239 64 120 3 254 16 16 0 255 1 0 0 126 1 4 0 127 4 0 0 207 76 0 16 15 70 240 32 189 39 255 224 255 111 127 224 247 255 143 233 247 207 159 63 127 199 143 126 254 111 206 147 255 255 254 63 255 255 255 63 63 253 239 251 255 251 191 255 255 251 254 223 255 243 254 219 255 255 254 15 254 255 255 15 252 207 255 255 252 223 255 255 255 255 255 251'"
     ],
     "language": "python",
     "metadata": {},
     "outputs": [],
     "prompt_number": 194
    },
    {
     "cell_type": "code",
     "collapsed": false,
     "input": [
      "too = 2*(np.unpackbits(np.array(map(int, boo.split(' '))).astype('uint8')).astype('int'))-1"
     ],
     "language": "python",
     "metadata": {},
     "outputs": [],
     "prompt_number": 195
    },
    {
     "cell_type": "code",
     "collapsed": false,
     "input": [
      "(too == isingspins32[0]).sum()"
     ],
     "language": "python",
     "metadata": {},
     "outputs": [
      {
       "metadata": {},
       "output_type": "pyout",
       "prompt_number": 196,
       "text": [
        "1024"
       ]
      }
     ],
     "prompt_number": 196
    },
    {
     "cell_type": "code",
     "collapsed": false,
     "input": [
      "for i in range(8):\n",
      "    print '\\xe0' & ('\\x01' << (7-i))"
     ],
     "language": "python",
     "metadata": {},
     "outputs": [
      {
       "ename": "TypeError",
       "evalue": "unsupported operand type(s) for <<: 'str' and 'int'",
       "output_type": "pyerr",
       "traceback": [
        "\u001b[0;31m---------------------------------------------------------------------------\u001b[0m\n\u001b[0;31mTypeError\u001b[0m                                 Traceback (most recent call last)",
        "\u001b[0;32m<ipython-input-93-c938865a98f8>\u001b[0m in \u001b[0;36m<module>\u001b[0;34m()\u001b[0m\n\u001b[1;32m      1\u001b[0m \u001b[0;32mfor\u001b[0m \u001b[0mi\u001b[0m \u001b[0;32min\u001b[0m \u001b[0mrange\u001b[0m\u001b[0;34m(\u001b[0m\u001b[0;36m8\u001b[0m\u001b[0;34m)\u001b[0m\u001b[0;34m:\u001b[0m\u001b[0;34m\u001b[0m\u001b[0m\n\u001b[0;32m----> 2\u001b[0;31m     \u001b[0;32mprint\u001b[0m \u001b[0;34m'\\xe0'\u001b[0m \u001b[0;34m&\u001b[0m \u001b[0;34m(\u001b[0m\u001b[0;34m'\\x01'\u001b[0m \u001b[0;34m<<\u001b[0m \u001b[0;34m(\u001b[0m\u001b[0;36m7\u001b[0m\u001b[0;34m-\u001b[0m\u001b[0mi\u001b[0m\u001b[0;34m)\u001b[0m\u001b[0;34m)\u001b[0m\u001b[0;34m\u001b[0m\u001b[0m\n\u001b[0m",
        "\u001b[0;31mTypeError\u001b[0m: unsupported operand type(s) for <<: 'str' and 'int'"
       ]
      }
     ],
     "prompt_number": 93
    },
    {
     "cell_type": "code",
     "collapsed": false,
     "input": [
      "crap = '11111111111111101100111011101110100010001000000000001000001010111001111111100110101111101110011111111111111111101110111111111111'"
     ],
     "language": "python",
     "metadata": {},
     "outputs": [],
     "prompt_number": 182
    },
    {
     "cell_type": "code",
     "collapsed": false,
     "input": [
      "len(crap)"
     ],
     "language": "python",
     "metadata": {},
     "outputs": [
      {
       "metadata": {},
       "output_type": "pyout",
       "prompt_number": 183,
       "text": [
        "128"
       ]
      }
     ],
     "prompt_number": 183
    },
    {
     "cell_type": "code",
     "collapsed": false,
     "input": [
      "print boo[:10]\n",
      "print isingspins32[0,-10:][::-1]"
     ],
     "language": "python",
     "metadata": {},
     "outputs": [
      {
       "output_type": "stream",
       "stream": "stdout",
       "text": [
        "[ 1  1 -1 -1  1  1 -1 -1  1  1]\n",
        "[ 1 -1 -1 -1 -1 -1 -1 -1  1  1]\n"
       ]
      }
     ],
     "prompt_number": 60
    },
    {
     "cell_type": "code",
     "collapsed": false,
     "input": [
      "plt.matshow((boo * isingspins32[0]).reshape(32,32))t"
     ],
     "language": "python",
     "metadata": {},
     "outputs": [
      {
       "metadata": {},
       "output_type": "pyout",
       "prompt_number": 34,
       "text": [
        "<matplotlib.image.AxesImage at 0x115a97810>"
       ]
      },
      {
       "metadata": {},
       "output_type": "display_data",
       "png": "[encoded data removed]",
       "text": [
        "<matplotlib.figure.Figure at 0x115ce1a50>"
       ]
      }
     ],
     "prompt_number": 34
    },
    {
     "cell_type": "code",
     "collapsed": false,
     "input": [
      "np.abs((boo[:-1] - isingspins32[0, 1:])).sum()/2"
     ],
     "language": "python",
     "metadata": {},
     "outputs": [
      {
       "metadata": {},
       "output_type": "pyout",
       "prompt_number": 38,
       "text": [
        "537"
       ]
      }
     ],
     "prompt_number": 38
    },
    {
     "cell_type": "code",
     "collapsed": false,
     "input": [],
     "language": "python",
     "metadata": {},
     "outputs": []
    }
   ],
   "metadata": {}
  }
 ]
}