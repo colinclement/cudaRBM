{
 "metadata": {
  "name": "",
  "signature": "sha256:16f19f4d439fece2c88584c4e6c4090ab84ab4c93f6ae4cda582b108abfdaf95"
 },
 "nbformat": 3,
 "nbformat_minor": 0,
 "worksheets": [
  {
   "cells": [
    {
     "cell_type": "code",
     "collapsed": false,
     "input": [
      "import gzip \n",
      "try:\n",
      "    import cPickle as pickle\n",
      "except ImportError:\n",
      "    import pickle\n",
      "from RBM_Class_no_theano import *\n",
      "sys.path.append(\"/Users/Colin/Documents/Research/Graduate_Research/Spin_Glasses/\")\n",
      "from replicaExchangeMC import spinUnpack"
     ],
     "language": "python",
     "metadata": {},
     "outputs": [],
     "prompt_number": 20
    },
    {
     "cell_type": "code",
     "collapsed": false,
     "input": [
      "#### SAVE/LOAD with pickle and gzip ####\n",
      "def train_rbm(sample, learning_rate=0.1, training_epochs=15, batch_size=20, n_hidden = 5, persistent=True,\n",
      "              output_folder='rbm_saves/', filename='spin_glass_rbm_no_theano.pklz'):\n",
      "    \"\"\"\n",
      "    Initiate an RBM class and train on spin glass data\n",
      "    inputs: sample - samples from a spin glass\n",
      "            learning_rate - Size of gradient descent steps during training\n",
      "            training_epochs - Number of times all of the training vectors are used once to update the weights\n",
      "            batch_size - Number of samples in each training vector batch\n",
      "            n_hidden - dimension of the top layer\n",
      "            output_folder - folder in which to save the rbm\n",
      "            filename - filename under which to save the rbm\n",
      "    outputs:\n",
      "            saves RBM after training and returns it\n",
      "    \"\"\"\n",
      "\n",
      "    #Initiate the data\n",
      "    #train_set_x = numpy.asarray(sample[:6000])\n",
      "    #test_set_x = numpy.asarray(sample[6000:])\n",
      "    train_set_x = sample\n",
      "    n_train_batches = train_set_x.shape[0] / batch_size\n",
      "    n_visible=train_set_x.shape[1]\n",
      "    #initiate the RBM\n",
      "    input = train_set_x[0:batch_size]\n",
      "    rbm = RBM(input=input, n_visible=train_set_x.shape[1], n_hidden=n_hidden)\n",
      "    #get starting cost and updates\n",
      "    cost = rbm.get_cost_updates(n_visible=n_visible, n_hidden=n_hidden, lr=learning_rate, persistent=persistent, k=15)\n",
      "    #makes the directory for saves\n",
      "    if not os.path.isdir(output_folder):\n",
      "        os.makedirs(output_folder)\n",
      "\n",
      "    #### TRAIN THE RBM ####\n",
      "\n",
      "    start_time = time.time()\n",
      "\n",
      "    # go through training epochs\n",
      "    for epoch in xrange(training_epochs):\n",
      "\n",
      "        # go through the training set\n",
      "        mean_cost = []\n",
      "        for batch_index in xrange(n_train_batches):\n",
      "            rbm.input = train_set_x[batch_index * batch_size: (batch_index + 1) * batch_size]\n",
      "            cost = rbm.get_cost_updates(n_visible=n_visible, n_hidden=n_hidden, lr=learning_rate, persistent=persistent, k=15)\n",
      "            mean_cost.append(cost)\n",
      "        print 'Training epoch %d, cost is ' % epoch, numpy.mean(mean_cost)\n",
      "\n",
      "    end_time = time.time()\n",
      "\n",
      "    pretraining_time = (end_time - start_time)\n",
      "    print ('Training took %f minutes' % (pretraining_time / 60.))\n",
      "\n",
      "    # save the RBM\n",
      "    fn = output_folder+filename\n",
      "    with gzip.open(fn,'wb') as f:\n",
      "        pickle.dump(rbm,f,-1)\n",
      "    return rbm\n",
      "\n",
      "def saverz(fn, one_thing):\n",
      "    \"\"\"Save one thing\"\"\"\n",
      "    with gzip.open(fn,'wb') as f:\n",
      "        pickle.dump(one_thing,f,-1)\n",
      "        \n",
      "def loaderz(fn):\n",
      "    \"\"\"Load one thing\"\"\"\n",
      "    with gzip.open(fn) as f:\n",
      "        one_thing = pickle.load(f)\n",
      "    return one_thing"
     ],
     "language": "python",
     "metadata": {},
     "outputs": [],
     "prompt_number": 24
    },
    {
     "cell_type": "code",
     "collapsed": false,
     "input": [
      "isingspins = spinUnpack(np.load('../L_64_ising_Tc_N_s_4500.npz')['series'],64).reshape(-1,64**2)\n",
      "print isingspins.shape\n",
      "np.random.shuffle(isingspins) #So batches don't have correlations"
     ],
     "language": "python",
     "metadata": {},
     "outputs": [
      {
       "output_type": "stream",
       "stream": "stdout",
       "text": [
        "(4500, 4096)\n"
       ]
      }
     ],
     "prompt_number": 22
    },
    {
     "cell_type": "code",
     "collapsed": false,
     "input": [
      "rbm = loaderz(\"spin_glass_rbm_64_32_td_2663086547epochs_5000lr_0.001.pklz\")"
     ],
     "language": "python",
     "metadata": {},
     "outputs": [],
     "prompt_number": 17
    },
    {
     "cell_type": "code",
     "collapsed": false,
     "input": [
      "train_rbm(isingspins, training_epochs=5, batch_size=100, n_hidden=16*16, filename='ising_rbm_test.pklz')"
     ],
     "language": "python",
     "metadata": {},
     "outputs": [
      {
       "output_type": "stream",
       "stream": "stderr",
       "text": [
        "RBM_Class_no_theano.py:52: RuntimeWarning: overflow encountered in exp\n",
        "  hidden_term = sum(log(1 + exp(wx_b)), axis=1)\n",
        "RBM_Class_no_theano.py:169: RuntimeWarning: invalid value encountered in subtract\n",
        "  cost = numpy.mean(self.n_visible * numpy.log(self.sigmoid(fe_xi_flip - fe_xi)))\n",
        "RBM_Class_no_theano.py:45: RuntimeWarning: overflow encountered in exp\n",
        "  y = 1/(1+exp(-x))\n",
        "RBM_Class_no_theano.py:126: RuntimeWarning: invalid value encountered in double_scalars\n",
        "  cost = mean(self.free_energy(self.input)) - mean(self.free_energy(chain_end))\n"
       ]
      },
      {
       "output_type": "stream",
       "stream": "stdout",
       "text": [
        "Training epoch 0, cost is  nan\n",
        "Training epoch 1, cost is "
       ]
      },
      {
       "output_type": "stream",
       "stream": "stdout",
       "text": [
        " nan\n",
        "Training epoch 2, cost is "
       ]
      },
      {
       "output_type": "stream",
       "stream": "stdout",
       "text": [
        " nan\n",
        "Training epoch 3, cost is "
       ]
      },
      {
       "output_type": "stream",
       "stream": "stdout",
       "text": [
        " nan\n",
        "Training epoch 4, cost is "
       ]
      },
      {
       "output_type": "stream",
       "stream": "stdout",
       "text": [
        " nan\n",
        "Training took 7.401534 minutes\n"
       ]
      },
      {
       "output_type": "stream",
       "stream": "stderr",
       "text": [
        "RBM_Class_no_theano.py:169: RuntimeWarning: divide by zero encountered in log\n",
        "  cost = numpy.mean(self.n_visible * numpy.log(self.sigmoid(fe_xi_flip - fe_xi)))\n"
       ]
      },
      {
       "ename": "NameError",
       "evalue": "global name 'rb' is not defined",
       "output_type": "pyerr",
       "traceback": [
        "\u001b[0;31m---------------------------------------------------------------------------\u001b[0m\n\u001b[0;31mNameError\u001b[0m                                 Traceback (most recent call last)",
        "\u001b[0;32m<ipython-input-25-cc22658be0c7>\u001b[0m in \u001b[0;36m<module>\u001b[0;34m()\u001b[0m\n\u001b[0;32m----> 1\u001b[0;31m \u001b[0mtrain_rbm\u001b[0m\u001b[0;34m(\u001b[0m\u001b[0misingspins\u001b[0m\u001b[0;34m,\u001b[0m \u001b[0mtraining_epochs\u001b[0m\u001b[0;34m=\u001b[0m\u001b[0;36m5\u001b[0m\u001b[0;34m,\u001b[0m \u001b[0mbatch_size\u001b[0m\u001b[0;34m=\u001b[0m\u001b[0;36m100\u001b[0m\u001b[0;34m,\u001b[0m \u001b[0mn_hidden\u001b[0m\u001b[0;34m=\u001b[0m\u001b[0;36m16\u001b[0m\u001b[0;34m*\u001b[0m\u001b[0;36m16\u001b[0m\u001b[0;34m,\u001b[0m \u001b[0mfilename\u001b[0m\u001b[0;34m=\u001b[0m\u001b[0;34m'ising_rbm_test.pklz'\u001b[0m\u001b[0;34m)\u001b[0m\u001b[0;34m\u001b[0m\u001b[0m\n\u001b[0m",
        "\u001b[0;32m<ipython-input-24-62942f762afa>\u001b[0m in \u001b[0;36mtrain_rbm\u001b[0;34m(sample, learning_rate, training_epochs, batch_size, n_hidden, persistent, output_folder, filename)\u001b[0m\n\u001b[1;32m     54\u001b[0m     \u001b[0;32mwith\u001b[0m \u001b[0mgzip\u001b[0m\u001b[0;34m.\u001b[0m\u001b[0mopen\u001b[0m\u001b[0;34m(\u001b[0m\u001b[0mfn\u001b[0m\u001b[0;34m,\u001b[0m\u001b[0;34m'wb'\u001b[0m\u001b[0;34m)\u001b[0m \u001b[0;32mas\u001b[0m \u001b[0mf\u001b[0m\u001b[0;34m:\u001b[0m\u001b[0;34m\u001b[0m\u001b[0m\n\u001b[1;32m     55\u001b[0m         \u001b[0mpickle\u001b[0m\u001b[0;34m.\u001b[0m\u001b[0mdump\u001b[0m\u001b[0;34m(\u001b[0m\u001b[0mrbm\u001b[0m\u001b[0;34m,\u001b[0m\u001b[0mf\u001b[0m\u001b[0;34m,\u001b[0m\u001b[0;34m-\u001b[0m\u001b[0;36m1\u001b[0m\u001b[0;34m)\u001b[0m\u001b[0;34m\u001b[0m\u001b[0m\n\u001b[0;32m---> 56\u001b[0;31m     \u001b[0;32mreturn\u001b[0m \u001b[0mrb\u001b[0m\u001b[0;34m\u001b[0m\u001b[0m\n\u001b[0m\u001b[1;32m     57\u001b[0m \u001b[0;34m\u001b[0m\u001b[0m\n\u001b[1;32m     58\u001b[0m \u001b[0;32mdef\u001b[0m \u001b[0msaverz\u001b[0m\u001b[0;34m(\u001b[0m\u001b[0mfn\u001b[0m\u001b[0;34m,\u001b[0m \u001b[0mone_thing\u001b[0m\u001b[0;34m)\u001b[0m\u001b[0;34m:\u001b[0m\u001b[0;34m\u001b[0m\u001b[0m\n",
        "\u001b[0;31mNameError\u001b[0m: global name 'rb' is not defined"
       ]
      }
     ],
     "prompt_number": 25
    },
    {
     "cell_type": "code",
     "collapsed": false,
     "input": [
      "rbmising = loaderz('rbm_saves/ising_rbm_test.pklz')"
     ],
     "language": "python",
     "metadata": {},
     "outputs": [],
     "prompt_number": 26
    },
    {
     "cell_type": "code",
     "collapsed": false,
     "input": [
      "rbmising = RBM(input = isingspins, n_visible=isingspins.shape[1], n_hidden=32*32)"
     ],
     "language": "python",
     "metadata": {},
     "outputs": [],
     "prompt_number": 23
    },
    {
     "cell_type": "code",
     "collapsed": false,
     "input": [
      "plt.hist(rbmising.W.flat, bins=60)"
     ],
     "language": "python",
     "metadata": {},
     "outputs": [
      {
       "metadata": {},
       "output_type": "pyout",
       "prompt_number": 28,
       "text": [
        "(array([   126.,    127.,    143.,    579.,    305.,      0.,     66.,\n",
        "           212.,   1048.,   1157.,   1152.,   2761.,   3007.,   4338.,\n",
        "          8678.,  10730.,  12277.,  15636.,  17832.,  21919.,  24446.,\n",
        "         29768.,  33206.,  37475.,  38640.,  41364.,  43625.,  46966.,\n",
        "         49182.,  51232.,  52812.,  50858.,  49035.,  45982.,  42474.,\n",
        "         42933.,  39844.,  36754.,  33013.,  28224.,  26079.,  21911.,\n",
        "         17743.,  13008.,  10143.,   9641.,   8491.,   5758.,   4518.,\n",
        "          3881.,   2437.,   1441.,    885.,   1144.,    392.,    462.,\n",
        "           393.,     67.,    123.,    133.]),\n",
        " array([ 12.57786365,  12.61211417,  12.64636469,  12.6806152 ,\n",
        "         12.71486572,  12.74911624,  12.78336676,  12.81761728,\n",
        "         12.85186779,  12.88611831,  12.92036883,  12.95461935,\n",
        "         12.98886986,  13.02312038,  13.0573709 ,  13.09162142,\n",
        "         13.12587194,  13.16012245,  13.19437297,  13.22862349,\n",
        "         13.26287401,  13.29712453,  13.33137504,  13.36562556,\n",
        "         13.39987608,  13.4341266 ,  13.46837712,  13.50262763,\n",
        "         13.53687815,  13.57112867,  13.60537919,  13.6396297 ,\n",
        "         13.67388022,  13.70813074,  13.74238126,  13.77663178,\n",
        "         13.81088229,  13.84513281,  13.87938333,  13.91363385,\n",
        "         13.94788437,  13.98213488,  14.0163854 ,  14.05063592,\n",
        "         14.08488644,  14.11913695,  14.15338747,  14.18763799,\n",
        "         14.22188851,  14.25613903,  14.29038954,  14.32464006,\n",
        "         14.35889058,  14.3931411 ,  14.42739162,  14.46164213,\n",
        "         14.49589265,  14.53014317,  14.56439369,  14.59864421,  14.63289472]),\n",
        " <a list of 60 Patch objects>)"
       ]
      },
      {
       "metadata": {},
       "output_type": "display_data",
       "png": "[encoded data removed]",
       "text": [
        "<matplotlib.figure.Figure at 0x1117d8fd0>"
       ]
      }
     ],
     "prompt_number": 28
    },
    {
     "cell_type": "code",
     "collapsed": false,
     "input": [
      "rbmising.hbias"
     ],
     "language": "python",
     "metadata": {},
     "outputs": [
      {
       "metadata": {},
       "output_type": "pyout",
       "prompt_number": 29,
       "text": [
        "array([ 9.77749913,  9.78605836,  9.7884974 ,  9.78338521,  9.80801947,\n",
        "        9.8049829 ,  9.80145058,  9.79428699,  9.78467959,  9.79893129,\n",
        "        9.78952587,  9.80759406,  9.78934431,  9.78946187,  9.79687117,\n",
        "        9.78355596,  9.77476345,  9.78846981,  9.79885145,  9.80358917,\n",
        "        9.79024712,  9.79858328,  9.78849685,  9.79206561,  9.79767163,\n",
        "        9.80081942,  9.79373257,  9.7843229 ,  9.77190972,  9.79378036,\n",
        "        9.80302253,  9.79390988,  9.78826405,  9.77917843,  9.7980681 ,\n",
        "        9.80470202,  9.79809901,  9.78447541,  9.79732605,  9.79937583,\n",
        "        9.78688545,  9.79513697,  9.78618437,  9.79698506,  9.79601864,\n",
        "        9.79966742,  9.79073829,  9.79055553,  9.78288578,  9.77148861,\n",
        "        9.79884358,  9.79818374,  9.79271526,  9.79797797,  9.79841112,\n",
        "        9.79537994,  9.79604442,  9.79967572,  9.78901965,  9.80187742,\n",
        "        9.79435024,  9.79496058,  9.77713831,  9.78381606,  9.78520338,\n",
        "        9.79668057,  9.78711307,  9.79721817,  9.79405776,  9.78404632,\n",
        "        9.79784218,  9.78106353,  9.7884957 ,  9.79322857,  9.77384541,\n",
        "        9.80090617,  9.78872213,  9.8037457 ,  9.78069765,  9.77986962,\n",
        "        9.78644292,  9.79065192,  9.815991  ,  9.80180707,  9.78371675,\n",
        "        9.79092059,  9.7824439 ,  9.7912782 ,  9.79364811,  9.80046148,\n",
        "        9.8037783 ,  9.78295734,  9.78800141,  9.81169503,  9.79102565,\n",
        "        9.80072691,  9.786332  ,  9.79292793,  9.79493056,  9.79085542,\n",
        "        9.79954539,  9.78324682,  9.80028378,  9.78520397,  9.77554608,\n",
        "        9.79097   ,  9.78738504,  9.79412676,  9.78764382,  9.7920654 ,\n",
        "        9.78324864,  9.78667255,  9.80194054,  9.8036753 ,  9.78759406,\n",
        "        9.80215005,  9.79149118,  9.80151748,  9.79294621,  9.78596141,\n",
        "        9.79973058,  9.79157845,  9.79729795,  9.79542371,  9.79573884,\n",
        "        9.77574281,  9.77661681,  9.80042231,  9.80102121,  9.78437089,\n",
        "        9.77522581,  9.80013429,  9.79374775,  9.79116008,  9.78378055,\n",
        "        9.79132695,  9.79207327,  9.8014042 ,  9.79530413,  9.80059131,\n",
        "        9.79634642,  9.77946613,  9.7944979 ,  9.80302543,  9.77448692,\n",
        "        9.78017603,  9.78371529,  9.78836027,  9.7890312 ,  9.80938574,\n",
        "        9.78670661,  9.78569196,  9.79975686,  9.79765295,  9.79342127,\n",
        "        9.8043749 ,  9.78773639,  9.78852187,  9.79762824,  9.77952363,\n",
        "        9.7890062 ,  9.79831189,  9.79794973,  9.78022105,  9.81075678,\n",
        "        9.7861286 ,  9.78562525,  9.79798769,  9.78500601,  9.79271242,\n",
        "        9.79383099,  9.79295491,  9.79433295,  9.8010864 ,  9.78545894,\n",
        "        9.78832556,  9.79435122,  9.79180869,  9.79780692,  9.77943214,\n",
        "        9.80618665,  9.79214765,  9.80218997,  9.78667899,  9.7874412 ,\n",
        "        9.78057391,  9.7929271 ,  9.79905726,  9.78808458,  9.78850712,\n",
        "        9.80127377,  9.79324927,  9.80195464,  9.79399895,  9.77354489,\n",
        "        9.79659946,  9.80732537,  9.80848944,  9.80547012,  9.78926609,\n",
        "        9.78724438,  9.80278321,  9.79017542,  9.80052489,  9.79306164,\n",
        "        9.77844143,  9.80572266,  9.78790207,  9.77788903,  9.79719733,\n",
        "        9.78958108,  9.78970972,  9.7924557 ,  9.78984172,  9.78005492,\n",
        "        9.78200115,  9.79120076,  9.78844863,  9.80080986,  9.79987723,\n",
        "        9.79396127,  9.80452199,  9.80244747,  9.80800193,  9.77516566,\n",
        "        9.79702966,  9.80072531,  9.7907962 ,  9.77634508,  9.79114775,\n",
        "        9.79084899,  9.78752563,  9.79772463,  9.79787771,  9.80790345,\n",
        "        9.80020566,  9.77552417,  9.79992674,  9.78599487,  9.78811694,\n",
        "        9.79173494,  9.7969997 ,  9.80776485,  9.77785869,  9.79635166,\n",
        "        9.79158712,  9.78956606,  9.78205331,  9.80090448,  9.79555574,\n",
        "        9.78153898,  9.78809885,  9.80059541,  9.79677421,  9.80019072,\n",
        "        9.78485868])"
       ]
      }
     ],
     "prompt_number": 29
    },
    {
     "cell_type": "code",
     "collapsed": false,
     "input": [],
     "language": "python",
     "metadata": {},
     "outputs": []
    }
   ],
   "metadata": {}
  }
 ]
}